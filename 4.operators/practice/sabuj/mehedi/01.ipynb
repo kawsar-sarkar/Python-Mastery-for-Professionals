{
 "cells": [
  {
   "cell_type": "code",
   "execution_count": 5,
   "metadata": {},
   "outputs": [
    {
     "name": "stdout",
     "output_type": "stream",
     "text": [
      "500\n"
     ]
    }
   ],
   "source": [
    "num1 = 300\n",
    "num2 = 500\n",
    "num3 = 100\n",
    "\n",
    "if num1 > num2 and num1 > num3:\n",
    "    print (num1)\n",
    "\n",
    "elif num2 > num1 and num2 > num3:\n",
    "    print (num2)\n",
    "\n",
    "else:\n",
    "    print (num3)"
   ]
  },
  {
   "cell_type": "code",
   "execution_count": 6,
   "metadata": {},
   "outputs": [
    {
     "name": "stdout",
     "output_type": "stream",
     "text": [
      "Vowel\n"
     ]
    }
   ],
   "source": [
    "letter = \"a\"\n",
    "\n",
    "if letter == \"a\" or letter == \"e\" or letter == \"i\" or letter == \"o\" or letter == \"u\":\n",
    "    print (\"Vowel\")\n",
    "\n",
    "else:\n",
    "    print (\"Consonant\")"
   ]
  },
  {
   "cell_type": "code",
   "execution_count": 7,
   "metadata": {},
   "outputs": [
    {
     "name": "stdout",
     "output_type": "stream",
     "text": [
      "Consonant\n"
     ]
    }
   ],
   "source": [
    "letter = \"b\"\n",
    "\n",
    "if letter == \"a\" or letter == \"e\" or letter == \"i\" or letter == \"o\" or letter == \"u\":\n",
    "    print (\"Vowel\")\n",
    "\n",
    "else:\n",
    "    print (\"Consonant\")"
   ]
  },
  {
   "cell_type": "code",
   "execution_count": null,
   "metadata": {},
   "outputs": [
    {
     "name": "stdout",
     "output_type": "stream",
     "text": [
      "You can play.\n"
     ]
    }
   ],
   "source": [
    "weather_sunny = True\n",
    "work_done = True\n",
    "\n",
    "\n",
    "if weather_sunny and work_done:\n",
    "    print(\"You can play.\")"
   ]
  },
  {
   "cell_type": "code",
   "execution_count": 13,
   "metadata": {},
   "outputs": [
    {
     "name": "stdout",
     "output_type": "stream",
     "text": [
      "The temperature is good.\n"
     ]
    }
   ],
   "source": [
    "temp = 25\n",
    "\n",
    "if temp > 0 and temp < 30:\n",
    "    print(\"The temperature is good.\")\n",
    "\n",
    "else:\n",
    "    print(\"The temperature is bad.\")"
   ]
  },
  {
   "cell_type": "code",
   "execution_count": 18,
   "metadata": {},
   "outputs": [
    {
     "name": "stdout",
     "output_type": "stream",
     "text": [
      "The temperature is good.\n"
     ]
    }
   ],
   "source": [
    "temp = 20\n",
    "\n",
    "if temp <= 0 or temp >= 30:\n",
    "    print(\"The temperature is bad.\")\n",
    "\n",
    "else:\n",
    "    print(\"The temperature is good.\")"
   ]
  },
  {
   "cell_type": "code",
   "execution_count": 21,
   "metadata": {},
   "outputs": [
    {
     "name": "stdout",
     "output_type": "stream",
     "text": [
      "The temperature is good.\n",
      "It is cloudy outside.\n"
     ]
    }
   ],
   "source": [
    "temp = 20\n",
    "sunny = False\n",
    "\n",
    "if temp <= 0 or temp >= 30:\n",
    "    print(\"The temperature is bad.\")\n",
    "else:\n",
    "    print(\"The temperature is good.\")\n",
    "\n",
    "if sunny:\n",
    "    print(\"It is sunny outside.\")\n",
    "else:\n",
    "    print(\"It is cloudy outside.\")"
   ]
  },
  {
   "cell_type": "code",
   "execution_count": 23,
   "metadata": {},
   "outputs": [
    {
     "name": "stdout",
     "output_type": "stream",
     "text": [
      "The temperature is good.\n",
      "It is sunny outside.\n"
     ]
    }
   ],
   "source": [
    "temp = 20\n",
    "sunny = True\n",
    "\n",
    "if temp <= 0 or temp >= 30:\n",
    "    print(\"The temperature is bad.\")\n",
    "else:\n",
    "    print(\"The temperature is good.\")\n",
    "\n",
    "if not sunny:\n",
    "    print(\"It is cloudy outside.\")\n",
    "else:\n",
    "    print(\"It is sunny outside.\")"
   ]
  }
 ],
 "metadata": {
  "kernelspec": {
   "display_name": "Python 3",
   "language": "python",
   "name": "python3"
  },
  "language_info": {
   "codemirror_mode": {
    "name": "ipython",
    "version": 3
   },
   "file_extension": ".py",
   "mimetype": "text/x-python",
   "name": "python",
   "nbconvert_exporter": "python",
   "pygments_lexer": "ipython3",
   "version": "3.13.0"
  }
 },
 "nbformat": 4,
 "nbformat_minor": 2
}
