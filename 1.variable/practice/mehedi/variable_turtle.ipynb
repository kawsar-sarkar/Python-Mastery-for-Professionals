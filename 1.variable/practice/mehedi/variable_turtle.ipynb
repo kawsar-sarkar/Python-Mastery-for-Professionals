{
 "cells": [
  {
   "cell_type": "code",
   "execution_count": 1,
   "metadata": {},
   "outputs": [],
   "source": [
    "import turtle\n",
    "\n",
    "favorite_color = \"blue\"\n",
    "\n",
    "t = turtle.Turtle()\n",
    "t.color(favorite_color)\n",
    "\n",
    "distance = 100\n",
    "\n",
    "t.forward(distance)\n",
    "\n",
    "turtle.done()"
   ]
  },
  {
   "cell_type": "code",
   "execution_count": 1,
   "metadata": {},
   "outputs": [],
   "source": [
    "from turtle import Turtle, done\n",
    "\n",
    "turtle_color = \"green\"\n",
    "\n",
    "distance = 150\n",
    "\n",
    "t = Turtle()\n",
    "t.color(turtle_color)\n",
    "\n",
    "t.forward(distance)\n",
    "\n",
    "done()"
   ]
  },
  {
   "cell_type": "code",
   "execution_count": null,
   "metadata": {},
   "outputs": [],
   "source": [
    "from turtle import Turtle, done\n",
    "\n",
    "turtle_color = \"red\"\n",
    "\n",
    "circle_size = 50\n",
    "\n",
    "t = Turtle()\n",
    "t.color(turtle_color)\n",
    "\n",
    "t.circle(circle_size)\n",
    "\n",
    "done()"
   ]
  },
  {
   "cell_type": "code",
   "execution_count": 1,
   "metadata": {},
   "outputs": [],
   "source": [
    "from turtle import Turtle, done\n",
    "\n",
    "color = \"green\"\n",
    "length = 100\n",
    "angle = 90\n",
    "\n",
    "t = Turtle()\n",
    "t.color(color)\n",
    "\n",
    "t.forward(length)\n",
    "t.right(angle)\n",
    "t.forward(length)\n",
    "t.right(angle)\n",
    "t.forward(length)\n",
    "t.right(angle)\n",
    "t.forward(length)\n",
    "\n",
    "done()"
   ]
  },
  {
   "cell_type": "code",
   "execution_count": 1,
   "metadata": {},
   "outputs": [],
   "source": [
    "from turtle import Turtle, done\n",
    "\n",
    "my_turtle = Turtle()\n",
    "\n",
    "turtle_color = \"red\"\n",
    "my_turtle.color(turtle_color)\n",
    "\n",
    "line_lenght = 50\n",
    "\n",
    "my_turtle.forward(line_lenght)\n",
    "\n",
    "done()"
   ]
  },
  {
   "cell_type": "code",
   "execution_count": 1,
   "metadata": {},
   "outputs": [],
   "source": [
    "from turtle import Turtle, done\n",
    "\n",
    "my_turtle = Turtle()\n",
    "\n",
    "turtle_color = \"green\"\n",
    "line_lenght = 100\n",
    "\n",
    "my_turtle.color(turtle_color)\n",
    "\n",
    "my_turtle.forward(line_lenght)\n",
    "my_turtle.left(120)\n",
    "\n",
    "my_turtle.forward(line_lenght)\n",
    "my_turtle.left(120)\n",
    "\n",
    "my_turtle.forward(line_lenght)\n",
    "my_turtle.left(120)\n",
    "\n",
    "done()"
   ]
  },
  {
   "cell_type": "code",
   "execution_count": 1,
   "metadata": {},
   "outputs": [],
   "source": [
    "from turtle import Turtle, done\n",
    "\n",
    "my_turtle = Turtle()\n",
    "\n",
    "face_color = \"yellow\"\n",
    "circle_size = 120\n",
    "\n",
    "my_turtle.color(face_color)\n",
    "my_turtle.begin_fill()\n",
    "my_turtle.circle(circle_size)\n",
    "my_turtle.end_fill()\n",
    "\n",
    "done()"
   ]
  }
 ],
 "metadata": {
  "kernelspec": {
   "display_name": "Python 3",
   "language": "python",
   "name": "python3"
  },
  "language_info": {
   "codemirror_mode": {
    "name": "ipython",
    "version": 3
   },
   "file_extension": ".py",
   "mimetype": "text/x-python",
   "name": "python",
   "nbconvert_exporter": "python",
   "pygments_lexer": "ipython3",
   "version": "3.13.0"
  }
 },
 "nbformat": 4,
 "nbformat_minor": 2
}
