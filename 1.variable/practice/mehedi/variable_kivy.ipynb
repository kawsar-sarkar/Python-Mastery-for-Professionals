{
 "cells": [
  {
   "cell_type": "code",
   "execution_count": 1,
   "metadata": {},
   "outputs": [
    {
     "name": "stdout",
     "output_type": "stream",
     "text": [
      "My name is Hasan\n",
      "I am 20 years old\n",
      "I have 3 pens\n"
     ]
    }
   ],
   "source": [
    "name = \"Hasan\"\n",
    "\n",
    "age = 20\n",
    "\n",
    "pens = 3\n",
    "\n",
    "print(\"My name is\", name)\n",
    "print(\"I am\", age, \"years old\")\n",
    "print(\"I have\", pens, \"pens\")"
   ]
  },
  {
   "cell_type": "code",
   "execution_count": 2,
   "metadata": {},
   "outputs": [
    {
     "name": "stdout",
     "output_type": "stream",
     "text": [
      "Our school name is Al-Hera Academy\n",
      "I read in class 9\n",
      "My roll nnumber is 12\n"
     ]
    }
   ],
   "source": [
    "school = \"Al-Hera Academy\"\n",
    "Class = 9\n",
    "roll_number = 12\n",
    "\n",
    "print(\"Our school name is\", school)\n",
    "print(\"I read in class\", Class)\n",
    "print(\"My roll nnumber is\", roll_number)"
   ]
  }
 ],
 "metadata": {
  "kernelspec": {
   "display_name": "Python 3",
   "language": "python",
   "name": "python3"
  },
  "language_info": {
   "codemirror_mode": {
    "name": "ipython",
    "version": 3
   },
   "file_extension": ".py",
   "mimetype": "text/x-python",
   "name": "python",
   "nbconvert_exporter": "python",
   "pygments_lexer": "ipython3",
   "version": "3.13.0"
  }
 },
 "nbformat": 4,
 "nbformat_minor": 2
}
