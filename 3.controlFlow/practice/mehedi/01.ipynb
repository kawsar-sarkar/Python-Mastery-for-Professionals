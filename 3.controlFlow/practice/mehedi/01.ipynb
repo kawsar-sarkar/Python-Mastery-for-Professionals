{
 "cells": [
  {
   "cell_type": "code",
   "execution_count": 1,
   "metadata": {},
   "outputs": [
    {
     "name": "stdout",
     "output_type": "stream",
     "text": [
      "Wear sunglass.\n"
     ]
    }
   ],
   "source": [
    "weather = \"sunny\"\n",
    "\n",
    "if weather == \"sunny\":\n",
    "    print(\"Wear sunglass.\")\n",
    "\n",
    "elif weather == \"rainny\":\n",
    "    print(\"Take an umbrella.\")\n",
    "\n",
    "else:\n",
    "    print(\"Dress wormly.\")"
   ]
  },
  {
   "cell_type": "code",
   "execution_count": 2,
   "metadata": {},
   "outputs": [
    {
     "name": "stdout",
     "output_type": "stream",
     "text": [
      "Start from 1.\n",
      "Start from 2.\n",
      "Start from 3.\n",
      "Start from 4.\n",
      "Start from 5.\n"
     ]
    }
   ],
   "source": [
    "\n",
    "for start in range (1, 6):\n",
    "    print(f\"Start from {start}.\")"
   ]
  },
  {
   "cell_type": "code",
   "execution_count": 3,
   "metadata": {},
   "outputs": [
    {
     "name": "stdout",
     "output_type": "stream",
     "text": [
      "Eating a cookies. 5 left.\n",
      "Eating a cookies. 4 left.\n",
      "Eating a cookies. 3 left.\n",
      "Eating a cookies. 2 left.\n",
      "Eating a cookies. 1 left.\n",
      "No more cookies left.\n"
     ]
    }
   ],
   "source": [
    "\n",
    "cookies = 5\n",
    "\n",
    "while cookies > 0:\n",
    "    print(f\"Eating a cookies. {cookies} left.\")\n",
    "    cookies -=1\n",
    "\n",
    "print(\"No more cookies left.\")"
   ]
  },
  {
   "cell_type": "code",
   "execution_count": 5,
   "metadata": {},
   "outputs": [
    {
     "name": "stdout",
     "output_type": "stream",
     "text": [
      "Checking the blue egg...\n",
      "Checking the red egg...\n",
      "Found the golden egg.\n"
     ]
    }
   ],
   "source": [
    "eggs = [\"blue egg\", \"red egg\", \"golden egg\", \"white egg\"]\n",
    "\n",
    "for egg in eggs:\n",
    "    if egg == \"golden egg\":\n",
    "        print(\"Found the golden egg.\")\n",
    "        break\n",
    "\n",
    "    print(f\"Checking the {egg}...\")"
   ]
  },
  {
   "cell_type": "code",
   "execution_count": 6,
   "metadata": {},
   "outputs": [
    {
     "name": "stdout",
     "output_type": "stream",
     "text": [
      "Eating the red apple.\n",
      "Eating the green apple.\n",
      "Skipping the rotten apple.\n",
      "Eating the yellow apple.\n"
     ]
    }
   ],
   "source": [
    "apples = [\"red apple\", \"green apple\", \"rotten apple\", \"yellow apple\"]\n",
    "\n",
    "for apple in apples:\n",
    "    if apple == \"rotten apple\":\n",
    "        print(\"Skipping the rotten apple.\")\n",
    "        continue\n",
    "    print (f\"Eating the {apple}.\")"
   ]
  },
  {
   "cell_type": "code",
   "execution_count": 7,
   "metadata": {},
   "outputs": [
    {
     "name": "stdout",
     "output_type": "stream",
     "text": [
      "Let's eat pizza.\n"
     ]
    }
   ],
   "source": [
    "hungry = True\n",
    "food = \"pizza\"\n",
    "\n",
    "if hungry:\n",
    "    if food == \"pizza\":\n",
    "        print(\"Let's eat pizza.\")\n",
    "    elif food == \"burger\":\n",
    "        print(\"Let's eat a burger.\")\n",
    "    else:\n",
    "        print(\"Let's eat whatever we have.\")\n",
    "\n",
    "else:\n",
    "    print(\"Not hungry right now.\")"
   ]
  },
  {
   "cell_type": "code",
   "execution_count": 8,
   "metadata": {},
   "outputs": [
    {
     "name": "stdout",
     "output_type": "stream",
     "text": [
      "Too high!\n"
     ]
    }
   ],
   "source": [
    "secret_number = 5\n",
    "\n",
    "guess = int(input(\"Guess a number between 1 and 10: \"))\n",
    "\n",
    "if guess == secret_number:\n",
    "    print(\"You guessed it right!\")\n",
    "\n",
    "elif guess < secret_number:\n",
    "    print(\"Too low!\")\n",
    "\n",
    "else:\n",
    "    print(\"Too high!\")"
   ]
  }
 ],
 "metadata": {
  "kernelspec": {
   "display_name": "Python 3",
   "language": "python",
   "name": "python3"
  },
  "language_info": {
   "codemirror_mode": {
    "name": "ipython",
    "version": 3
   },
   "file_extension": ".py",
   "mimetype": "text/x-python",
   "name": "python",
   "nbconvert_exporter": "python",
   "pygments_lexer": "ipython3",
   "version": "3.13.0"
  }
 },
 "nbformat": 4,
 "nbformat_minor": 2
}
