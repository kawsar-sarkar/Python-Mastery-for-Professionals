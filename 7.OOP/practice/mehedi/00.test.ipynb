{
 "cells": [
  {
   "cell_type": "code",
   "execution_count": null,
   "metadata": {},
   "outputs": [
    {
     "name": "stdout",
     "output_type": "stream",
     "text": [
      "This car is a red Toyota.\n",
      "All cars are now Honda cars!\n",
      "Cars help us travel fast and far!\n"
     ]
    }
   ],
   "source": [
    "class Car:\n",
    "    brand = \"Unknown\"\n",
    "\n",
    "    def __init__(self, color, model):\n",
    "        self.color = color\n",
    "        self.model = model\n",
    "\n",
    "    def describe_car(self):\n",
    "        return f\"This car is a {self.color} {self.model}.\"\n",
    "    \n",
    "    @classmethod\n",
    "    def change_brand(cls, new_brand):\n",
    "        cls.brand = new_brand\n",
    "        return f\"All cars are now {cls.brand} cars!\"\n",
    "    \n",
    "    @staticmethod\n",
    "    def car_fact():\n",
    "        return \"Cars help us travel fast and far!\"\n",
    "    \n",
    "my_car = Car(\"red\", \"Toyota\")\n",
    "\n",
    "print(my_car.describe_car())\n",
    "print(Car.change_brand(\"Honda\"))\n",
    "print(Car.car_fact())"
   ]
  },
  {
   "cell_type": "code",
   "execution_count": null,
   "metadata": {},
   "outputs": [
    {
     "name": "stdout",
     "output_type": "stream",
     "text": [
      "This is a green & red Apple\n",
      "All fruits are now Unknown\n",
      "Fruits are healthy and yummy!\n"
     ]
    }
   ],
   "source": [
    "class Fruit:\n",
    "    type_of_fruit = \"Unknown\"\n",
    "\n",
    "    def __init__(self, name, color):\n",
    "        self.name = name\n",
    "        self.color = color\n",
    "\n",
    "    def describe_fruit(self):\n",
    "        return f\"This is a {self.color} {self.name}\"\n",
    "    \n",
    "    @classmethod\n",
    "    def change_fruit_type(cls, new_type):\n",
    "        cls.type_of_fruit = new_type\n",
    "        return f\"All fruits are now {cls.type_of_fruit}\"\n",
    "\n",
    "    @staticmethod\n",
    "    def fruit_fact():\n",
    "        return \"Fruits are healthy and yummy!\"\n",
    "    \n",
    "apple = Fruit(\"Apple\", \"green & red\")\n",
    "\n",
    "print(apple.describe_fruit())\n",
    "print(Fruit.change_fruit_type(\"Orange\"))\n",
    "print(Fruit.fruit_fact())"
   ]
  },
  {
   "cell_type": "code",
   "execution_count": 7,
   "metadata": {},
   "outputs": [
    {
     "name": "stdout",
     "output_type": "stream",
     "text": [
      "This dog's name is Tomas and its color brown.\n",
      "All dogs are black.\n",
      "Dogs like to play.\n"
     ]
    }
   ],
   "source": [
    "class Animal:\n",
    "    dog = \"Unknown\"\n",
    "\n",
    "    def __init__(self, name, color):\n",
    "        self.name = name\n",
    "        self.color = color\n",
    "\n",
    "    def describe_dog(self):\n",
    "        return f\"This dog's name is {self.name} and its color {self.color}.\"\n",
    "    \n",
    "    @classmethod\n",
    "    def change_color(cls, new_color):\n",
    "        cls.color = new_color\n",
    "        return f\"All dogs are {cls.color}.\"\n",
    "    \n",
    "    @staticmethod\n",
    "    def dog_fact():\n",
    "        return f\"Dogs like to play.\"\n",
    "    \n",
    "dog1 = Animal(\"Tomas\", \"brown\")\n",
    "\n",
    "print(dog1.describe_dog())\n",
    "print(Animal.change_color(\"black\"))\n",
    "print(Animal.dog_fact())"
   ]
  },
  {
   "cell_type": "code",
   "execution_count": 9,
   "metadata": {},
   "outputs": [
    {
     "name": "stdout",
     "output_type": "stream",
     "text": [
      "Harry Potter is written by J.k. Rowling.\n",
      "All books are now in the Fantasy category!\n",
      "Books take us to magical worlds!\n"
     ]
    }
   ],
   "source": [
    "class Book:\n",
    "    category = \"Unknown\"\n",
    "\n",
    "    def __init__(self, title, author):\n",
    "        self.title = title\n",
    "        self.author = author\n",
    "\n",
    "    def describe_book(self):\n",
    "        return f\"{self.title} is written by {self.author}.\"\n",
    "    \n",
    "    @classmethod\n",
    "    def change_category(cls, new_category):\n",
    "        cls.new_category = new_category\n",
    "        return f\"All books are now in the {cls.new_category} category!\"\n",
    "    \n",
    "    @staticmethod\n",
    "    def book_fact():\n",
    "        return \"Books take us to magical worlds!\"\n",
    "    \n",
    "book = Book(\"Harry Potter\", \"J.k. Rowling\")\n",
    "\n",
    "print(book.describe_book())\n",
    "print(Book.change_category(\"Fantasy\"))\n",
    "print(Book.book_fact())"
   ]
  },
  {
   "cell_type": "code",
   "execution_count": 13,
   "metadata": {},
   "outputs": [
    {
     "name": "stdout",
     "output_type": "stream",
     "text": [
      "This is a green & red Apple\n",
      "All fruits are orange.\n",
      "Fruits are healthy and teasty.\n"
     ]
    }
   ],
   "source": [
    "class Fruit:\n",
    "    type_of_fruit = \"Unknown\"\n",
    "\n",
    "    def __init__(self, name, color):\n",
    "        self.name = name\n",
    "        self.color = color\n",
    "\n",
    "    def describe_about_fruit(self):\n",
    "        return f\"This is a {self.color} {self.name}\"\n",
    "    \n",
    "    @classmethod\n",
    "    def change_fruit_type(cls,new_type_of_fruit):\n",
    "        cls.new_type = new_type_of_fruit\n",
    "        return f\"All fruits are {cls.new_type}.\"\n",
    "    \n",
    "    @staticmethod\n",
    "    def fruit_fact():\n",
    "        return \"Fruits are healthy and teasty.\"\n",
    "    \n",
    "fruit1 = Fruit(\"Apple\", \"green & red\")\n",
    "\n",
    "print(fruit1.describe_about_fruit())\n",
    "print(Fruit.change_fruit_type(\"orange\"))\n",
    "print(Fruit.fruit_fact())\n"
   ]
  },
  {
   "cell_type": "code",
   "execution_count": 14,
   "metadata": {},
   "outputs": [
    {
     "name": "stdout",
     "output_type": "stream",
     "text": [
      "Al-Hera Academy is the best school.\n",
      "Kawsar is a student of Galaxy.\n",
      "All schools are fine.\n"
     ]
    }
   ],
   "source": [
    "class School:\n",
    "    school_name = \"Unknown\"\n",
    "\n",
    "    def __init__(self, name):\n",
    "        self.name = name\n",
    "\n",
    "    def comment(self):\n",
    "        return f\"{self.name} is the best school.\"\n",
    "    \n",
    "    @classmethod\n",
    "    def change_school(cls,new_school):\n",
    "        cls.new_school_name = new_school\n",
    "        return f\"Kawsar is a student of {cls.new_school_name}.\"\n",
    "    \n",
    "    @staticmethod\n",
    "    def school_info():\n",
    "        return \"All schools are fine.\"\n",
    "\n",
    "school1 = School(\"Al-Hera Academy\")\n",
    "\n",
    "print(school1.comment())\n",
    "print(School.change_school(\"Galaxy\"))\n",
    "print(School.school_info())\n"
   ]
  },
  {
   "cell_type": "code",
   "execution_count": 18,
   "metadata": {},
   "outputs": [
    {
     "name": "stdout",
     "output_type": "stream",
     "text": [
      "Al_Hera\n",
      "Al_Hera Academy is a better school\n",
      "Kawsar is a student of Galaxy.\n",
      "All schools are good.\n"
     ]
    }
   ],
   "source": [
    "class School:\n",
    "    school_name = \"Al_Hera\"\n",
    "\n",
    "    def __init__(self, name):\n",
    "        self.name = name\n",
    "\n",
    "    def comment(self):\n",
    "        return f\"{self.name} is a better school\"\n",
    "    \n",
    "    @classmethod\n",
    "    def change_school_name(cls,new_schoo_name):\n",
    "        cls.new_school = new_schoo_name\n",
    "        return f\"Kawsar is a student of {cls.new_school}.\"\n",
    "    \n",
    "    @staticmethod\n",
    "    def school_info():\n",
    "        return \"All schools are good.\"\n",
    "    \n",
    "school1 = School(\"Al_Hera Academy\")\n",
    "\n",
    "print(School.school_name)\n",
    "\n",
    "print(school1.comment())\n",
    "print(School.change_school_name(\"Galaxy\"))\n",
    "print(School.school_info())"
   ]
  }
 ],
 "metadata": {
  "kernelspec": {
   "display_name": "Python 3",
   "language": "python",
   "name": "python3"
  },
  "language_info": {
   "codemirror_mode": {
    "name": "ipython",
    "version": 3
   },
   "file_extension": ".py",
   "mimetype": "text/x-python",
   "name": "python",
   "nbconvert_exporter": "python",
   "pygments_lexer": "ipython3",
   "version": "3.13.0"
  }
 },
 "nbformat": 4,
 "nbformat_minor": 2
}
