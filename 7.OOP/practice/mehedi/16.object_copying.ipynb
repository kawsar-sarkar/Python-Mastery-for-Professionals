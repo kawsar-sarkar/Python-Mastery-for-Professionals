{
 "cells": [
  {
   "cell_type": "markdown",
   "metadata": {},
   "source": [
    "### Object Copying"
   ]
  },
  {
   "cell_type": "markdown",
   "metadata": {},
   "source": [
    "#### Shallow Copy"
   ]
  },
  {
   "cell_type": "code",
   "execution_count": 13,
   "metadata": {},
   "outputs": [
    {
     "name": "stdout",
     "output_type": "stream",
     "text": [
      "Original: [1, 2, 3, [5, 6, 100, 8], 9]\n",
      "Shallow Copy: [1, 2, 3, [5, 6, 100, 8], 9]\n"
     ]
    }
   ],
   "source": [
    "import copy\n",
    "\n",
    "original = [1, 2, 3, [5, 6, 7, 8], 9]\n",
    "shallow_copy = copy.copy(original)\n",
    "\n",
    "shallow_copy[3] [2] = 100\n",
    "\n",
    "print(\"Original:\", original)\n",
    "print(\"Shallow Copy:\", shallow_copy)"
   ]
  },
  {
   "cell_type": "code",
   "execution_count": 8,
   "metadata": {},
   "outputs": [
    {
     "name": "stdout",
     "output_type": "stream",
     "text": [
      "Original: [1, 2, 3, [100, 6, 7, 8], 9]\n",
      "Shallow Copy: [1, 2, 3, [100, 6, 7, 8], 9]\n"
     ]
    }
   ],
   "source": [
    "import copy\n",
    "\n",
    "original = [1, 2, 3, [5, 6, 7, 8], 9]\n",
    "shallow_copy = copy.copy(original)\n",
    "\n",
    "shallow_copy[3][0] = 100\n",
    "\n",
    "print(\"Original:\", original)\n",
    "print(\"Shallow Copy:\", shallow_copy)\n"
   ]
  },
  {
   "cell_type": "markdown",
   "metadata": {},
   "source": [
    "#### Deep Copy"
   ]
  },
  {
   "cell_type": "code",
   "execution_count": 14,
   "metadata": {},
   "outputs": [
    {
     "name": "stdout",
     "output_type": "stream",
     "text": [
      "Original: [1, [2, 3], 4]\n",
      "Deep Copy: [1, [99, 3], 4]\n"
     ]
    }
   ],
   "source": [
    "import copy\n",
    "\n",
    "original = [1, [2, 3], 4]\n",
    "deep_copy = copy.deepcopy(original)\n",
    "\n",
    "deep_copy[1][0] = 99\n",
    "\n",
    "print(\"Original:\", original)\n",
    "print(\"Deep Copy:\", deep_copy)\n"
   ]
  }
 ],
 "metadata": {
  "kernelspec": {
   "display_name": "Python 3",
   "language": "python",
   "name": "python3"
  },
  "language_info": {
   "codemirror_mode": {
    "name": "ipython",
    "version": 3
   },
   "file_extension": ".py",
   "mimetype": "text/x-python",
   "name": "python",
   "nbconvert_exporter": "python",
   "pygments_lexer": "ipython3",
   "version": "3.11.10"
  }
 },
 "nbformat": 4,
 "nbformat_minor": 2
}
