{
 "cells": [
  {
   "cell_type": "markdown",
   "metadata": {},
   "source": [
    "### Metaclasses"
   ]
  },
  {
   "cell_type": "code",
   "execution_count": 1,
   "metadata": {},
   "outputs": [
    {
     "name": "stdout",
     "output_type": "stream",
     "text": [
      "Creating class: MyClass\n"
     ]
    }
   ],
   "source": [
    "class MyMeta(type):\n",
    "    def __new__(cls, name, bases, dct):\n",
    "        print(f\"Creating class: {name}\")\n",
    "        return super().__new__(cls, name, bases, dct)\n",
    "\n",
    "class MyClass(metaclass=MyMeta):\n",
    "    pass"
   ]
  },
  {
   "cell_type": "code",
   "execution_count": 3,
   "metadata": {},
   "outputs": [
    {
     "name": "stdout",
     "output_type": "stream",
     "text": [
      "Hello, I'm added by the metaclass!\n"
     ]
    }
   ],
   "source": [
    "class AddAttributeMeta(type):\n",
    "    def __new__(cls, name, bases, dct):\n",
    "        dct[\"added_attribute\"] = \"Hello, I'm added by the metaclass!\"\n",
    "        return super().__new__(cls, name, bases, dct)\n",
    "\n",
    "class MyClass(metaclass=AddAttributeMeta):\n",
    "    pass\n",
    "\n",
    "print(MyClass.added_attribute)"
   ]
  },
  {
   "cell_type": "code",
   "execution_count": 7,
   "metadata": {},
   "outputs": [
    {
     "name": "stdout",
     "output_type": "stream",
     "text": [
      "Before method call\n",
      "Original method logic.\n",
      "After method call\n"
     ]
    }
   ],
   "source": [
    "class ModifyMethodMeta(type):\n",
    "    def __new__(cls, name, bases, dct):\n",
    "        if \"my_method\" in dct:\n",
    "            original_method = dct[\"my_method\"]\n",
    "\n",
    "            def wrapped_method(self):\n",
    "                print(\"Before method call\")\n",
    "                original_method(self)\n",
    "                print(\"After method call\")\n",
    "            \n",
    "            dct[\"my_method\"] = wrapped_method\n",
    "\n",
    "        return super().__new__(cls, name, bases, dct)\n",
    "\n",
    "class MyClass(metaclass=ModifyMethodMeta):\n",
    "    def my_method(self):\n",
    "        print(\"Original method logic.\")\n",
    "\n",
    "obj = MyClass()\n",
    "obj.my_method()"
   ]
  },
  {
   "cell_type": "code",
   "execution_count": 8,
   "metadata": {},
   "outputs": [
    {
     "name": "stdout",
     "output_type": "stream",
     "text": [
      "True\n"
     ]
    }
   ],
   "source": [
    "class SingletonMeta(type):\n",
    "    _instances = {}\n",
    "\n",
    "    def __call__(cls, *args, **kwargs):\n",
    "        if cls not in cls._instances:\n",
    "            cls._instances[cls] = super().__call__(*args, **kwargs)\n",
    "        return cls._instances[cls]\n",
    "\n",
    "class SingletonClass(metaclass=SingletonMeta):\n",
    "    pass\n",
    "\n",
    "obj1 = SingletonClass()\n",
    "obj2 = SingletonClass()\n",
    "\n",
    "print(obj1 is obj2)"
   ]
  }
 ],
 "metadata": {
  "kernelspec": {
   "display_name": "Python 3",
   "language": "python",
   "name": "python3"
  },
  "language_info": {
   "codemirror_mode": {
    "name": "ipython",
    "version": 3
   },
   "file_extension": ".py",
   "mimetype": "text/x-python",
   "name": "python",
   "nbconvert_exporter": "python",
   "pygments_lexer": "ipython3",
   "version": "3.11.10"
  }
 },
 "nbformat": 4,
 "nbformat_minor": 2
}
