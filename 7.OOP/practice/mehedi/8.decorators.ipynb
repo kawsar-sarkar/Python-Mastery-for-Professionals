{
 "cells": [
  {
   "cell_type": "markdown",
   "metadata": {},
   "source": [
    "### Decorators"
   ]
  },
  {
   "cell_type": "code",
   "execution_count": 3,
   "metadata": {},
   "outputs": [
    {
     "name": "stdout",
     "output_type": "stream",
     "text": [
      "Before function call\n",
      "Hello!\n",
      "After function call\n"
     ]
    }
   ],
   "source": [
    "def simple_decorator(func):\n",
    "    def wrapper():\n",
    "        print(\"Before function call\")\n",
    "        func()\n",
    "        print(\"After function call\")\n",
    "    return wrapper\n",
    "\n",
    "@simple_decorator\n",
    "def greet():\n",
    "    print(\"Hello!\")\n",
    "\n",
    "\n",
    "greet()"
   ]
  },
  {
   "cell_type": "code",
   "execution_count": 4,
   "metadata": {},
   "outputs": [
    {
     "name": "stdout",
     "output_type": "stream",
     "text": [
      "Hello, Hasan!\n",
      "How are you, Hasan?\n"
     ]
    }
   ],
   "source": [
    "def decorator_with_args(func):\n",
    "    def wrapper(name):\n",
    "        print(f\"Hello, {name}!\")\n",
    "        func(name)\n",
    "    return wrapper\n",
    "\n",
    "@decorator_with_args\n",
    "def say_hello(name):\n",
    "    print(f\"How are you, {name}?\")\n",
    "\n",
    "say_hello(\"Hasan\")"
   ]
  },
  {
   "cell_type": "code",
   "execution_count": 6,
   "metadata": {},
   "outputs": [
    {
     "name": "stdout",
     "output_type": "stream",
     "text": [
      "Execution Time: 1.0045068264007568 seconds\n"
     ]
    }
   ],
   "source": [
    "import time\n",
    "\n",
    "def time_decorator(func):\n",
    "    def wrapper():\n",
    "        start_time = time.time()\n",
    "        func()\n",
    "        end_time = time.time()\n",
    "        print(f\"Execution Time: {end_time - start_time} seconds\")\n",
    "    return wrapper\n",
    "\n",
    "@time_decorator\n",
    "def example_function():\n",
    "    time.sleep(1)  # Sleep for 1 second\n",
    "\n",
    "example_function()\n"
   ]
  },
  {
   "cell_type": "code",
   "execution_count": 16,
   "metadata": {},
   "outputs": [
    {
     "name": "stdout",
     "output_type": "stream",
     "text": [
      "Function called 2 times\n",
      "Hello World!\n",
      "Function called 3 times\n",
      "Hello World!\n"
     ]
    }
   ],
   "source": [
    "def count_calls(func):\n",
    "    def wrapper():\n",
    "        wrapper.call_count += 1\n",
    "        print(f\"Function called {wrapper.call_count} times\")\n",
    "        func()\n",
    "    wrapper.call_count = 1\n",
    "    return wrapper\n",
    "\n",
    "@count_calls\n",
    "def hello():\n",
    "    print(\"Hello World!\")\n",
    "\n",
    "hello()\n",
    "hello()\n"
   ]
  },
  {
   "cell_type": "code",
   "execution_count": 18,
   "metadata": {},
   "outputs": [
    {
     "name": "stdout",
     "output_type": "stream",
     "text": [
      "Function called 2 tiems\n",
      "Hello\n"
     ]
    }
   ],
   "source": [
    "def count_calls(func):\n",
    "    def wrapper():\n",
    "        wrapper.call_count += 1\n",
    "        print(f\"Function called {wrapper.call_count} tiems\")\n",
    "        func()\n",
    "    wrapper.call_count = 1\n",
    "    return wrapper\n",
    "@count_calls\n",
    "def hello():\n",
    "    print(\"Hello\")\n",
    "\n",
    "hello()"
   ]
  },
  {
   "cell_type": "code",
   "execution_count": 8,
   "metadata": {},
   "outputs": [
    {
     "name": "stdout",
     "output_type": "stream",
     "text": [
      "Hello!\n"
     ]
    }
   ],
   "source": [
    "def add_sign(func):\n",
    "    def wrapper():\n",
    "        result = func()\n",
    "        return result + \"!\"\n",
    "    return wrapper\n",
    "\n",
    "@add_sign\n",
    "def say_hello():\n",
    "    return \"Hello\"\n",
    "\n",
    "print(say_hello())"
   ]
  },
  {
   "cell_type": "code",
   "execution_count": 9,
   "metadata": {},
   "outputs": [
    {
     "name": "stdout",
     "output_type": "stream",
     "text": [
      "Hi!\n"
     ]
    }
   ],
   "source": [
    "def add_sing(func):\n",
    "    def wrapper():\n",
    "        result = func()\n",
    "        return result + \"!\"\n",
    "    return wrapper\n",
    "\n",
    "@add_sign\n",
    "def say_hi():\n",
    "    return \"Hi\"\n",
    "\n",
    "print(say_hi())"
   ]
  },
  {
   "cell_type": "code",
   "execution_count": 11,
   "metadata": {},
   "outputs": [
    {
     "name": "stdout",
     "output_type": "stream",
     "text": [
      "How are you?\n"
     ]
    }
   ],
   "source": [
    "def add_sign(func):\n",
    "    def wrapper():\n",
    "        result = func()\n",
    "        return result + \"?\"\n",
    "    return wrapper\n",
    "\n",
    "@add_sign\n",
    "def asking():\n",
    "    return \"How are you\"\n",
    "\n",
    "print(asking())"
   ]
  }
 ],
 "metadata": {
  "kernelspec": {
   "display_name": "Python 3",
   "language": "python",
   "name": "python3"
  },
  "language_info": {
   "codemirror_mode": {
    "name": "ipython",
    "version": 3
   },
   "file_extension": ".py",
   "mimetype": "text/x-python",
   "name": "python",
   "nbconvert_exporter": "python",
   "pygments_lexer": "ipython3",
   "version": "3.11.10"
  }
 },
 "nbformat": 4,
 "nbformat_minor": 2
}
