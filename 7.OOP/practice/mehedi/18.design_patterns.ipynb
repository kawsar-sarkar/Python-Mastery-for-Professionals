{
 "cells": [
  {
   "cell_type": "markdown",
   "metadata": {},
   "source": [
    "### Design Patterns"
   ]
  },
  {
   "cell_type": "code",
   "execution_count": 2,
   "metadata": {},
   "outputs": [
    {
     "name": "stdout",
     "output_type": "stream",
     "text": [
      "True\n"
     ]
    }
   ],
   "source": [
    "class Singleton:\n",
    "    _instance = None\n",
    "    def __new__(cls):\n",
    "        if cls._instance is None:\n",
    "            cls._instance = super(Singleton, cls).__new__(cls)\n",
    "        return cls._instance\n",
    "\n",
    "obj1 = Singleton()\n",
    "obj2 = Singleton()\n",
    "\n",
    "print(obj1 is obj2)"
   ]
  },
  {
   "cell_type": "code",
   "execution_count": 3,
   "metadata": {},
   "outputs": [
    {
     "name": "stdout",
     "output_type": "stream",
     "text": [
      "10\n",
      "10\n"
     ]
    }
   ],
   "source": [
    "class Singleton:\n",
    "    _instance = None\n",
    "\n",
    "    def __new__(cls, value):\n",
    "        if cls._instance is None:\n",
    "            cls._instance = super(Singleton, cls).__new__(cls)\n",
    "            cls._instance.value = value\n",
    "        return cls._instance\n",
    "\n",
    "obj1 = Singleton(10)\n",
    "obj2 = Singleton(20)\n",
    "\n",
    "print(obj1.value)\n",
    "print(obj2.value)"
   ]
  },
  {
   "cell_type": "code",
   "execution_count": 4,
   "metadata": {},
   "outputs": [
    {
     "name": "stdout",
     "output_type": "stream",
     "text": [
      "10\n",
      "10\n"
     ]
    }
   ],
   "source": [
    "def singleton(cls):\n",
    "    instances = {}\n",
    "    def get_instance(*args, **kwargs):\n",
    "        if cls not in instances:\n",
    "            instances[cls] = cls(*args, **kwargs)\n",
    "        return instances[cls]\n",
    "    return get_instance\n",
    "\n",
    "@singleton\n",
    "class Singleton:\n",
    "    def __init__(self, value):\n",
    "        self.value = value\n",
    "\n",
    "obj1 = Singleton(10)\n",
    "obj2 = Singleton(20)\n",
    "\n",
    "print(obj1.value)\n",
    "print(obj2.value)"
   ]
  },
  {
   "cell_type": "code",
   "execution_count": 5,
   "metadata": {},
   "outputs": [
    {
     "name": "stdout",
     "output_type": "stream",
     "text": [
      "Woof!\n",
      "Meow!\n"
     ]
    }
   ],
   "source": [
    "class Dog:\n",
    "    def speak(self):\n",
    "        return \"Woof!\"\n",
    "\n",
    "class Cat:\n",
    "    def speak(self):\n",
    "        return \"Meow!\"\n",
    "\n",
    "def animal_factory(animal_type):\n",
    "    if animal_type == \"dog\":\n",
    "        return Dog()\n",
    "    elif animal_type == \"cat\":\n",
    "        return Cat()\n",
    "    else:\n",
    "        return None\n",
    "\n",
    "animal1 = animal_factory(\"dog\")\n",
    "print(animal1.speak())\n",
    "\n",
    "animal2 = animal_factory(\"cat\")\n",
    "print(animal2.speak())"
   ]
  },
  {
   "cell_type": "code",
   "execution_count": 6,
   "metadata": {},
   "outputs": [
    {
     "name": "stdout",
     "output_type": "stream",
     "text": [
      "I am a Car!\n"
     ]
    }
   ],
   "source": [
    "class Vehicle:\n",
    "    def description(self):\n",
    "        pass\n",
    "\n",
    "class Car(Vehicle):\n",
    "    def description(self):\n",
    "        return \"I am a Car!\"\n",
    "\n",
    "class Bike(Vehicle):\n",
    "    def description(self):\n",
    "        return \"I am a Bike!\"\n",
    "\n",
    "class VehicleFactory:\n",
    "    @staticmethod\n",
    "    def get_vehicle(vehicle_type):\n",
    "        if vehicle_type == \"car\":\n",
    "            return Car()\n",
    "        elif vehicle_type == \"bike\":\n",
    "            return Bike()\n",
    "        else:\n",
    "            return None\n",
    "\n",
    "vehicle = VehicleFactory.get_vehicle(\"car\")\n",
    "print(vehicle.description())"
   ]
  },
  {
   "cell_type": "code",
   "execution_count": 7,
   "metadata": {},
   "outputs": [
    {
     "name": "stdout",
     "output_type": "stream",
     "text": [
      "Circle Area: 78.5\n",
      "Square Area: 16\n"
     ]
    }
   ],
   "source": [
    "class Circle:\n",
    "    def __init__(self, radius):\n",
    "        self.radius = radius\n",
    "\n",
    "    def area(self):\n",
    "        return 3.14 * self.radius * self.radius\n",
    "\n",
    "class Square:\n",
    "    def __init__(self, side):\n",
    "        self.side = side\n",
    "\n",
    "    def area(self):\n",
    "        return self.side * self.side\n",
    "\n",
    "def shape_factory(shape_type, size):\n",
    "    if shape_type == \"circle\":\n",
    "        return Circle(size)\n",
    "    elif shape_type == \"square\":\n",
    "        return Square(size)\n",
    "    else:\n",
    "        return None\n",
    "\n",
    "shape1 = shape_factory(\"circle\", 5)\n",
    "print(f\"Circle Area: {shape1.area()}\")\n",
    "\n",
    "shape2 = shape_factory(\"square\", 4)\n",
    "print(f\"Square Area: {shape2.area()}\")"
   ]
  }
 ],
 "metadata": {
  "kernelspec": {
   "display_name": "Python 3",
   "language": "python",
   "name": "python3"
  },
  "language_info": {
   "codemirror_mode": {
    "name": "ipython",
    "version": 3
   },
   "file_extension": ".py",
   "mimetype": "text/x-python",
   "name": "python",
   "nbconvert_exporter": "python",
   "pygments_lexer": "ipython3",
   "version": "3.11.10"
  }
 },
 "nbformat": 4,
 "nbformat_minor": 2
}
