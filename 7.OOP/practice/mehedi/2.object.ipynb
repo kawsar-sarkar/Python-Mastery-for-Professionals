{
 "cells": [
  {
   "cell_type": "markdown",
   "metadata": {},
   "source": [
    "### Objects"
   ]
  },
  {
   "cell_type": "markdown",
   "metadata": {},
   "source": [
    "#### Creating an object of an outer class"
   ]
  },
  {
   "cell_type": "code",
   "execution_count": null,
   "metadata": {},
   "outputs": [
    {
     "name": "stdout",
     "output_type": "stream",
     "text": [
      "Hello, my name is OuterClassExample\n"
     ]
    }
   ],
   "source": [
    "class Outer:\n",
    "    def __init__(self,name):\n",
    "        self.name = name\n",
    "\n",
    "    def greet(self):\n",
    "        print(f\"Hello, my name is {self.name}\")\n",
    "\n",
    "outer_object = Outer(\"OuterClassExample\")\n",
    "\n",
    "outer_object.greet()"
   ]
  },
  {
   "cell_type": "code",
   "execution_count": 1,
   "metadata": {},
   "outputs": [
    {
     "name": "stdout",
     "output_type": "stream",
     "text": [
      "Eat\n",
      "None\n"
     ]
    }
   ],
   "source": [
    "class Person:\n",
    "    def action(self):\n",
    "        print(\"Eat\")\n",
    "\n",
    "mehedi = Person()\n",
    "\n",
    "print(mehedi.action())"
   ]
  },
  {
   "cell_type": "code",
   "execution_count": 2,
   "metadata": {},
   "outputs": [
    {
     "name": "stdout",
     "output_type": "stream",
     "text": [
      "40\n",
      "40\n",
      "Mehedi\n"
     ]
    }
   ],
   "source": [
    "class Person:\n",
    "    def __init__(self,name):\n",
    "        self.name = name\n",
    "\n",
    "    age = 40\n",
    "\n",
    "print(Person. age)\n",
    "\n",
    "p1 = Person(\"Mehedi\")\n",
    "print(p1.age)\n",
    "print(p1.name)"
   ]
  },
  {
   "cell_type": "code",
   "execution_count": 3,
   "metadata": {},
   "outputs": [
    {
     "name": "stdout",
     "output_type": "stream",
     "text": [
      "Eat\n",
      "None\n"
     ]
    }
   ],
   "source": [
    "class Person:\n",
    "    def __init__(self, hand=2, finger=5, head=1):\n",
    "        self.hand = hand\n",
    "        self.finger = finger\n",
    "        self.head = head\n",
    "\n",
    "    def action(self):\n",
    "        print(\"Eat\")\n",
    "\n",
    "mehedi = Person()\n",
    "print(mehedi.action())"
   ]
  }
 ],
 "metadata": {
  "kernelspec": {
   "display_name": ".venv",
   "language": "python",
   "name": "python3"
  },
  "language_info": {
   "codemirror_mode": {
    "name": "ipython",
    "version": 3
   },
   "file_extension": ".py",
   "mimetype": "text/x-python",
   "name": "python",
   "nbconvert_exporter": "python",
   "pygments_lexer": "ipython3",
   "version": "3.13.0"
  }
 },
 "nbformat": 4,
 "nbformat_minor": 2
}
