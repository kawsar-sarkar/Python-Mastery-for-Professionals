{
 "cells": [
  {
   "cell_type": "markdown",
   "metadata": {},
   "source": [
    "### Duck Typing"
   ]
  },
  {
   "cell_type": "code",
   "execution_count": 17,
   "metadata": {},
   "outputs": [
    {
     "name": "stdout",
     "output_type": "stream",
     "text": [
      "Hi!\n",
      "Hello!\n"
     ]
    }
   ],
   "source": [
    "class Rafi:\n",
    "    def quack(self):\n",
    "        print(\"Hi!\")\n",
    "\n",
    "class Safi:\n",
    "    def quack(self):\n",
    "        print(\"Hello!\")\n",
    "\n",
    "def speech(person):\n",
    "    person.quack()\n",
    "\n",
    "r = Rafi()\n",
    "s = Safi()\n",
    "\n",
    "speech(r)\n",
    "speech(s)"
   ]
  },
  {
   "cell_type": "code",
   "execution_count": 18,
   "metadata": {},
   "outputs": [
    {
     "name": "stdout",
     "output_type": "stream",
     "text": [
      "Hi!\n",
      "Hello!\n"
     ]
    }
   ],
   "source": [
    "class Rafi:\n",
    "    def quack(self):\n",
    "        print(\"Hi!\")\n",
    "\n",
    "class Safi:\n",
    "    def quack(self):\n",
    "        print(\"Hello!\")\n",
    "\n",
    "def speech(person):\n",
    "    person.quack()\n",
    "\n",
    "#r = Rafi()\n",
    "#s = Safi()\n",
    "\n",
    "speech(Rafi())\n",
    "speech(Safi())"
   ]
  },
  {
   "cell_type": "code",
   "execution_count": 19,
   "metadata": {},
   "outputs": [
    {
     "name": "stdout",
     "output_type": "stream",
     "text": [
      "Drawing a circle.\n",
      "Drawing a square.\n"
     ]
    }
   ],
   "source": [
    "class Circle:\n",
    "    def draw(self):\n",
    "        print(\"Drawing a circle.\")\n",
    "\n",
    "class Square:\n",
    "    def draw(self):\n",
    "        print(\"Drawing a square.\")\n",
    "\n",
    "def draw_shape(shape):\n",
    "    shape.draw()\n",
    "\n",
    "circle = Circle()\n",
    "square = Square()\n",
    "\n",
    "draw_shape(circle)\n",
    "draw_shape(square)\n"
   ]
  },
  {
   "cell_type": "code",
   "execution_count": 20,
   "metadata": {},
   "outputs": [
    {
     "name": "stdout",
     "output_type": "stream",
     "text": [
      "Paying with credit card.\n",
      "Paying with PayPal.\n"
     ]
    }
   ],
   "source": [
    "class CreditCard:\n",
    "    def pay(self):\n",
    "        print(\"Paying with credit card.\")\n",
    "\n",
    "class PayPal:\n",
    "    def pay(self):\n",
    "        print(\"Paying with PayPal.\")\n",
    "\n",
    "def process_payment(method):\n",
    "    method.pay()\n",
    "\n",
    "cc = CreditCard()\n",
    "paypal = PayPal()\n",
    "\n",
    "process_payment(cc)\n",
    "process_payment(paypal)"
   ]
  }
 ],
 "metadata": {
  "kernelspec": {
   "display_name": "Python 3",
   "language": "python",
   "name": "python3"
  },
  "language_info": {
   "codemirror_mode": {
    "name": "ipython",
    "version": 3
   },
   "file_extension": ".py",
   "mimetype": "text/x-python",
   "name": "python",
   "nbconvert_exporter": "python",
   "pygments_lexer": "ipython3",
   "version": "3.11.10"
  }
 },
 "nbformat": 4,
 "nbformat_minor": 2
}
