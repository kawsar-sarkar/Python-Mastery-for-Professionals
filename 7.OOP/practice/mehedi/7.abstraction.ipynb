{
 "cells": [
  {
   "cell_type": "markdown",
   "metadata": {},
   "source": [
    "### Abstraction"
   ]
  },
  {
   "cell_type": "code",
   "execution_count": 2,
   "metadata": {},
   "outputs": [
    {
     "name": "stdout",
     "output_type": "stream",
     "text": [
      "Bark\n",
      "Meow\n"
     ]
    }
   ],
   "source": [
    "from abc import ABC, abstractmethod\n",
    "\n",
    "class Animal(ABC):\n",
    "    @abstractmethod\n",
    "    def sound(self):\n",
    "        pass\n",
    "\n",
    "class Dog(Animal):\n",
    "    def sound(self):\n",
    "        return \"Bark\"\n",
    "\n",
    "class Cat(Animal):\n",
    "    def sound(self):\n",
    "        return \"Meow\"\n",
    "\n",
    "animals = [Dog(), Cat()]\n",
    "for Animal in animals:\n",
    "    print(Animal.sound())"
   ]
  },
  {
   "cell_type": "code",
   "execution_count": 4,
   "metadata": {},
   "outputs": [
    {
     "name": "stdout",
     "output_type": "stream",
     "text": [
      "Car started\n",
      "Car stopped\n"
     ]
    }
   ],
   "source": [
    "from abc import ABC, abstractmethod\n",
    "\n",
    "class Activity(ABC):\n",
    "    @abstractmethod\n",
    "    def start(self):\n",
    "        pass\n",
    "\n",
    "    @abstractmethod\n",
    "    def stop(self):\n",
    "        pass\n",
    "\n",
    "class Car(Activity):\n",
    "    def start(self):\n",
    "        return \"Car started\"\n",
    "\n",
    "    def stop(self):\n",
    "        return \"Car stopped\"\n",
    "\n",
    "car = Car()\n",
    "print(car.start())\n",
    "print(car.stop())"
   ]
  },
  {
   "cell_type": "code",
   "execution_count": 15,
   "metadata": {},
   "outputs": [
    {
     "name": "stdout",
     "output_type": "stream",
     "text": [
      "Fan is on.\n",
      "Light is on.\n",
      "Fan is off.\n",
      "Light is off.\n"
     ]
    }
   ],
   "source": [
    "from abc import ABC, abstractmethod\n",
    "\n",
    "class OnOff(ABC):\n",
    "    @abstractmethod\n",
    "    def turn_on(self):\n",
    "        pass\n",
    "\n",
    "    @abstractmethod\n",
    "    def turn_off(self):\n",
    "        pass\n",
    "\n",
    "\n",
    "class Fan(OnOff):\n",
    "    def turn_on(self):\n",
    "        return \"Fan is on.\"\n",
    "    \n",
    "\n",
    "    def turn_off(self):\n",
    "        return \"Fan is off.\"\n",
    "    \n",
    "class Lignt(OnOff):\n",
    "    def turn_on(self):\n",
    "        return \"Light is on.\"\n",
    "    \n",
    "    def turn_off(self):\n",
    "        return \"Light is off.\"\n",
    "    \n",
    "    \n",
    "\n",
    "fan = Fan()\n",
    "light = Lignt()\n",
    "\n",
    "print(fan.turn_on())\n",
    "print(light.turn_on())\n",
    "print(fan.turn_off())\n",
    "print(light.turn_off())"
   ]
  },
  {
   "cell_type": "code",
   "execution_count": 1,
   "metadata": {},
   "outputs": [
    {
     "name": "stdout",
     "output_type": "stream",
     "text": [
      "Woof!\n",
      "Meow!\n"
     ]
    }
   ],
   "source": [
    "class Animal:\n",
    "    def make_sound(self):\n",
    "        pass\n",
    "\n",
    "class Dog:\n",
    "    def make_sound(self):\n",
    "        return \"Woof!\"\n",
    "    \n",
    "class Cat:\n",
    "    def make_sound(self):\n",
    "        return \"Meow!\"\n",
    "    \n",
    "my_dog = Dog()\n",
    "my_cat = Cat()\n",
    "\n",
    "print(my_dog.make_sound())\n",
    "print(my_cat.make_sound())"
   ]
  },
  {
   "cell_type": "code",
   "execution_count": 2,
   "metadata": {},
   "outputs": [
    {
     "name": "stdout",
     "output_type": "stream",
     "text": [
      "vroom! vroom!\n",
      "la la la!\n"
     ]
    }
   ],
   "source": [
    "class Toy:\n",
    "    def play(self):\n",
    "        pass\n",
    "\n",
    "class Car:\n",
    "    def play(self):\n",
    "        return \"vroom! vroom!\"\n",
    "    \n",
    "class Doll:\n",
    "    def play(self):\n",
    "        return \"la la la!\"\n",
    "    \n",
    "my_car = Car()\n",
    "my_doll = Doll()\n",
    "\n",
    "print(my_car.play())\n",
    "print(my_doll.play())"
   ]
  },
  {
   "cell_type": "code",
   "execution_count": 1,
   "metadata": {},
   "outputs": [
    {
     "name": "stdout",
     "output_type": "stream",
     "text": [
      "Vacuuming the floor.\n",
      "Cooking delicious food.\n"
     ]
    }
   ],
   "source": [
    "class Robot:\n",
    "    def action(self):\n",
    "        pass\n",
    "\n",
    "class CleaningRobot(Robot):\n",
    "    def action(self):\n",
    "        return \"Vacuuming the floor.\"\n",
    "    \n",
    "class CookingRobot(Robot):\n",
    "    def action(self):\n",
    "        return \"Cooking delicious food.\"\n",
    "    \n",
    "cleaning_bot = CleaningRobot()\n",
    "cooking_robot = CookingRobot()\n",
    "\n",
    "print(cleaning_bot.action())\n",
    "print(cooking_robot.action())"
   ]
  },
  {
   "cell_type": "code",
   "execution_count": 2,
   "metadata": {},
   "outputs": [
    {
     "name": "stdout",
     "output_type": "stream",
     "text": [
      "Tamim's roll number is 5.\n",
      "Hamim's roll number is 4.\n",
      "Kobir's roll number is 6.\n"
     ]
    }
   ],
   "source": [
    "class Roll():\n",
    "    def roll(self):\n",
    "        pass\n",
    "\n",
    "class Tamim(Roll):\n",
    "    def roll(self):\n",
    "        return \"Tamim's roll number is 5.\"\n",
    "    \n",
    "class Hamim(Roll):\n",
    "    def roll(self):\n",
    "        return \"Hamim's roll number is 4.\"\n",
    "    \n",
    "class Kobir(Roll):\n",
    "    def roll(self):\n",
    "        return \"Kobir's roll number is 6.\"\n",
    "    \n",
    "tamim = Tamim()\n",
    "hamim = Hamim()\n",
    "kobir = Kobir()\n",
    "\n",
    "print(tamim.roll())\n",
    "print(hamim.roll())\n",
    "print(kobir.roll())"
   ]
  }
 ],
 "metadata": {
  "kernelspec": {
   "display_name": "Python 3",
   "language": "python",
   "name": "python3"
  },
  "language_info": {
   "codemirror_mode": {
    "name": "ipython",
    "version": 3
   },
   "file_extension": ".py",
   "mimetype": "text/x-python",
   "name": "python",
   "nbconvert_exporter": "python",
   "pygments_lexer": "ipython3",
   "version": "3.13.0"
  }
 },
 "nbformat": 4,
 "nbformat_minor": 2
}
