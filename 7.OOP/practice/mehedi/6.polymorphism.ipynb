{
 "cells": [
  {
   "cell_type": "markdown",
   "metadata": {},
   "source": [
    "### Polymorphism"
   ]
  },
  {
   "cell_type": "code",
   "execution_count": 1,
   "metadata": {},
   "outputs": [
    {
     "name": "stdout",
     "output_type": "stream",
     "text": [
      "Bark\n",
      "Meow\n"
     ]
    }
   ],
   "source": [
    "class Dog:\n",
    "    def sound(self):\n",
    "        return \"Bark\"\n",
    "\n",
    "class Cat:\n",
    "    def sound(self):\n",
    "        return \"Meow\"\n",
    "\n",
    "animals = [Dog(), Cat()]\n",
    "for animal in animals:\n",
    "    print(animal.sound())"
   ]
  },
  {
   "cell_type": "code",
   "execution_count": 4,
   "metadata": {},
   "outputs": [
    {
     "name": "stdout",
     "output_type": "stream",
     "text": [
      "5\n",
      "Hello Rafi\n"
     ]
    }
   ],
   "source": [
    "def add (a, b):\n",
    "    return a + b\n",
    "\n",
    "print(add(2, 3))\n",
    "print(add(\"Hello \", \"Rafi\"))"
   ]
  },
  {
   "cell_type": "code",
   "execution_count": 5,
   "metadata": {},
   "outputs": [
    {
     "name": "stdout",
     "output_type": "stream",
     "text": [
      "16\n",
      "28.259999999999998\n"
     ]
    }
   ],
   "source": [
    "class Shape:\n",
    "    def area(self):\n",
    "        return 0\n",
    "\n",
    "class Square(Shape):\n",
    "    def __init__(self, side):\n",
    "        self.side = side\n",
    "\n",
    "    def area(self):\n",
    "        return self.side * self.side\n",
    "\n",
    "class Circle(Shape):\n",
    "    def __init__(self, radius):\n",
    "        self.radius = radius\n",
    "\n",
    "    def area(self):\n",
    "        return 3.14 * self.radius * self.radius\n",
    "\n",
    "shapes = [Square(4), Circle(3)]\n",
    "for shape in shapes:\n",
    "    print(shape.area())\n"
   ]
  },
  {
   "cell_type": "code",
   "execution_count": 6,
   "metadata": {},
   "outputs": [
    {
     "name": "stdout",
     "output_type": "stream",
     "text": [
      "Bonjour\n",
      "Hola\n"
     ]
    }
   ],
   "source": [
    "class French:\n",
    "    def say_hello(self):\n",
    "        print(\"Bonjour\")\n",
    "\n",
    "class Spanish:\n",
    "    def say_hello(self):\n",
    "        print(\"Hola\")\n",
    "\n",
    "def intro(lang):\n",
    "    lang.say_hello()\n",
    "\n",
    "karim = French()\n",
    "rahim = Spanish()\n",
    "\n",
    "intro(karim)\n",
    "intro(rahim)"
   ]
  },
  {
   "cell_type": "code",
   "execution_count": 7,
   "metadata": {},
   "outputs": [
    {
     "name": "stdout",
     "output_type": "stream",
     "text": [
      "Bonjour\n",
      "Hola\n"
     ]
    }
   ],
   "source": [
    "class Language:\n",
    "    def say_hello(self):\n",
    "        raise NotImplementedError(\"Please use say_hello in child class\")\n",
    "    \n",
    "class French(Language):\n",
    "    def say_hello(self):\n",
    "        print(\"Bonjour\")\n",
    "\n",
    "class Spanish(Language):\n",
    "    def say_hello(self):\n",
    "        print(\"Hola\")\n",
    "\n",
    "def intro(lang):\n",
    "    lang.say_hello()\n",
    "\n",
    "karim = French()\n",
    "rahim = Spanish()\n",
    "\n",
    "intro(karim)\n",
    "intro(rahim)"
   ]
  },
  {
   "cell_type": "code",
   "execution_count": 11,
   "metadata": {},
   "outputs": [
    {
     "name": "stdout",
     "output_type": "stream",
     "text": [
      "I'm Mimic!\n",
      "Hamba! Hamba!\n"
     ]
    }
   ],
   "source": [
    "class SoundMaker:\n",
    "    def speak(self):\n",
    "        return \"Some Sound\"\n",
    "    \n",
    "\n",
    "class Parrot(SoundMaker):\n",
    "    def speak(self):\n",
    "        return \"I'm Mimic!\"\n",
    "    \n",
    "class Cow(SoundMaker):\n",
    "    def speak(self):\n",
    "        return \"Hamba! Hamba!\"\n",
    "    \n",
    "sm = [Parrot(), Cow()]\n",
    "for SoundMaker in sm:\n",
    "    print(SoundMaker.speak())"
   ]
  },
  {
   "cell_type": "code",
   "execution_count": 12,
   "metadata": {},
   "outputs": [
    {
     "name": "stdout",
     "output_type": "stream",
     "text": [
      "6\n",
      "Hello Hello \n"
     ]
    }
   ],
   "source": [
    "def multiply (a, b):\n",
    "    return a * b\n",
    "\n",
    "print(multiply(2, 3))\n",
    "print(multiply(\"Hello \", 2))"
   ]
  }
 ],
 "metadata": {
  "kernelspec": {
   "display_name": "Python 3",
   "language": "python",
   "name": "python3"
  },
  "language_info": {
   "codemirror_mode": {
    "name": "ipython",
    "version": 3
   },
   "file_extension": ".py",
   "mimetype": "text/x-python",
   "name": "python",
   "nbconvert_exporter": "python",
   "pygments_lexer": "ipython3",
   "version": "3.11.10"
  }
 },
 "nbformat": 4,
 "nbformat_minor": 2
}
