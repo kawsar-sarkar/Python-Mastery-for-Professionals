{
 "cells": [
  {
   "cell_type": "markdown",
   "metadata": {},
   "source": [
    "### Encapsulation"
   ]
  },
  {
   "cell_type": "code",
   "execution_count": null,
   "metadata": {},
   "outputs": [],
   "source": [
    "class BankAccount:\n",
    "    # Class-level static attribute\n",
    "    bank_name = \"Python National Bank\"\n",
    "\n",
    "    def __init__(self, owner, balance):\n",
    "        self.owner = owner            # Public member\n",
    "        self._balance = balance       # Protected member\n",
    "        self.__account_number = \"1234567890\"  # Private member (name mangling)\n",
    "\n",
    "    # Getter for the private account number\n",
    "    def get_account_number(self):\n",
    "        return self.__account_number\n",
    "\n",
    "    # Setter for the private account number (can add validation here)\n",
    "    def set_account_number(self, new_account_number):\n",
    "        if len(new_account_number) == 10 and new_account_number.isdigit():\n",
    "            self.__account_number = new_account_number\n",
    "        else:\n",
    "            raise ValueError(\"Invalid account number. Must be a 10-digit number.\")\n",
    "\n",
    "    # Public method to deposit money\n",
    "    def deposit(self, amount):\n",
    "        if amount > 0:\n",
    "            self._balance += amount\n",
    "            print(f\"${amount} deposited. New balance: ${self._balance}\")\n",
    "        else:\n",
    "            print(\"Deposit amount must be positive.\")\n",
    "\n",
    "    # Public method to withdraw money\n",
    "    def withdraw(self, amount):\n",
    "        if amount > 0 and amount <= self._balance:\n",
    "            self._balance -= amount\n",
    "            print(f\"${amount} withdrawn. Remaining balance: ${self._balance}\")\n",
    "        else:\n",
    "            print(\"Invalid withdrawal amount.\")\n",
    "\n",
    "    # Static method to display bank policies\n",
    "    @staticmethod\n",
    "    def display_bank_policies():\n",
    "        print(\"Bank Policies: Minimum balance $100. Overdraft not allowed.\")\n",
    "\n",
    "# Create an account instance\n",
    "account = BankAccount(\"Alice\", 500)\n",
    "\n",
    "# Public members\n",
    "print(\"Account Owner (Public):\", account.owner)  # Public access\n",
    "\n",
    "# Accessing Protected Member\n",
    "print(\"Balance (Protected):\", account._balance)  # Direct access (not recommended)\n",
    "\n",
    "# Accessing Private Member (Will cause AttributeError)\n",
    "# print(account.__account_number)  # Uncommenting this line will raise an AttributeError\n",
    "\n",
    "# Access private member via name mangling (not recommended but possible)\n",
    "print(\"Account Number (Private - Name Mangling):\", account._BankAccount__account_number)\n",
    "\n",
    "# Using Getter and Setter for Private Members\n",
    "print(\"Account Number (via Getter):\", account.get_account_number())\n",
    "account.set_account_number(\"9876543210\")  # Update account number\n",
    "print(\"Updated Account Number (via Setter):\", account.get_account_number())\n",
    "\n",
    "# Using Public Methods\n",
    "account.deposit(200)  # Deposit money\n",
    "account.withdraw(100)  # Withdraw money\n",
    "\n",
    "# Using Static Method\n",
    "BankAccount.display_bank_policies()  # Call static method directly\n",
    "\n",
    "# Accessing Static Attribute\n",
    "print(\"Bank Name (Static):\", BankAccount.bank_name)\n"
   ]
  },
  {
   "cell_type": "code",
   "execution_count": 1,
   "metadata": {},
   "outputs": [
    {
     "name": "stdout",
     "output_type": "stream",
     "text": [
      "Name: Hasan, Salary: 50000\n"
     ]
    }
   ],
   "source": [
    "class Empolyee:\n",
    "    def __init__(self, name, salary):\n",
    "        self.n = name\n",
    "        self.s = salary\n",
    "\n",
    "    def display_info(self):\n",
    "        print(f\"Name: {self.n}, Salary: {self.s}\")\n",
    "\n",
    "e = Empolyee(\"Hasan\", 50000)\n",
    "\n",
    "e.display_info()"
   ]
  },
  {
   "cell_type": "code",
   "execution_count": 3,
   "metadata": {},
   "outputs": [
    {
     "name": "stdout",
     "output_type": "stream",
     "text": [
      "EN900\n"
     ]
    }
   ],
   "source": [
    "class Car:\n",
    "    def __init__(self):\n",
    "        self.number = \"EN900\"\n",
    "\n",
    "    def car_number(self):\n",
    "        return self.number\n",
    "    \n",
    "car = Car()\n",
    "\n",
    "print(car.car_number())"
   ]
  },
  {
   "cell_type": "code",
   "execution_count": null,
   "metadata": {},
   "outputs": [],
   "source": []
  }
 ],
 "metadata": {
  "kernelspec": {
   "display_name": "Python 3",
   "language": "python",
   "name": "python3"
  },
  "language_info": {
   "codemirror_mode": {
    "name": "ipython",
    "version": 3
   },
   "file_extension": ".py",
   "mimetype": "text/x-python",
   "name": "python",
   "nbconvert_exporter": "python",
   "pygments_lexer": "ipython3",
   "version": "3.11.10"
  }
 },
 "nbformat": 4,
 "nbformat_minor": 2
}
