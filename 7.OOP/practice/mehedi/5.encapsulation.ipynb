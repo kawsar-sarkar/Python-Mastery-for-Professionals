{
 "cells": [
  {
   "cell_type": "markdown",
   "metadata": {},
   "source": [
    "### Encapsulation"
   ]
  },
  {
   "cell_type": "code",
   "execution_count": null,
   "metadata": {},
   "outputs": [],
   "source": [
    "class BankAccount:\n",
    "    # Class-level static attribute\n",
    "    bank_name = \"Python National Bank\"\n",
    "\n",
    "    def __init__(self, owner, balance):\n",
    "        self.owner = owner            # Public member\n",
    "        self._balance = balance       # Protected member\n",
    "        self.__account_number = \"1234567890\"  # Private member (name mangling)\n",
    "\n",
    "    # Getter for the private account number\n",
    "    def get_account_number(self):\n",
    "        return self.__account_number\n",
    "\n",
    "    # Setter for the private account number (can add validation here)\n",
    "    def set_account_number(self, new_account_number):\n",
    "        if len(new_account_number) == 10 and new_account_number.isdigit():\n",
    "            self.__account_number = new_account_number\n",
    "        else:\n",
    "            raise ValueError(\"Invalid account number. Must be a 10-digit number.\")\n",
    "\n",
    "    # Public method to deposit money\n",
    "    def deposit(self, amount):\n",
    "        if amount > 0:\n",
    "            self._balance += amount\n",
    "            print(f\"${amount} deposited. New balance: ${self._balance}\")\n",
    "        else:\n",
    "            print(\"Deposit amount must be positive.\")\n",
    "\n",
    "    # Public method to withdraw money\n",
    "    def withdraw(self, amount):\n",
    "        if amount > 0 and amount <= self._balance:\n",
    "            self._balance -= amount\n",
    "            print(f\"${amount} withdrawn. Remaining balance: ${self._balance}\")\n",
    "        else:\n",
    "            print(\"Invalid withdrawal amount.\")\n",
    "\n",
    "    # Static method to display bank policies\n",
    "    @staticmethod\n",
    "    def display_bank_policies():\n",
    "        print(\"Bank Policies: Minimum balance $100. Overdraft not allowed.\")\n",
    "\n",
    "# Create an account instance\n",
    "account = BankAccount(\"Alice\", 500)\n",
    "\n",
    "# Public members\n",
    "print(\"Account Owner (Public):\", account.owner)  # Public access\n",
    "\n",
    "# Accessing Protected Member\n",
    "print(\"Balance (Protected):\", account._balance)  # Direct access (not recommended)\n",
    "\n",
    "# Accessing Private Member (Will cause AttributeError)\n",
    "# print(account.__account_number)  # Uncommenting this line will raise an AttributeError\n",
    "\n",
    "# Access private member via name mangling (not recommended but possible)\n",
    "print(\"Account Number (Private - Name Mangling):\", account._BankAccount__account_number)\n",
    "\n",
    "# Using Getter and Setter for Private Members\n",
    "print(\"Account Number (via Getter):\", account.get_account_number())\n",
    "account.set_account_number(\"9876543210\")  # Update account number\n",
    "print(\"Updated Account Number (via Setter):\", account.get_account_number())\n",
    "\n",
    "# Using Public Methods\n",
    "account.deposit(200)  # Deposit money\n",
    "account.withdraw(100)  # Withdraw money\n",
    "\n",
    "# Using Static Method\n",
    "BankAccount.display_bank_policies()  # Call static method directly\n",
    "\n",
    "# Accessing Static Attribute\n",
    "print(\"Bank Name (Static):\", BankAccount.bank_name)\n"
   ]
  },
  {
   "cell_type": "code",
   "execution_count": 1,
   "metadata": {},
   "outputs": [
    {
     "name": "stdout",
     "output_type": "stream",
     "text": [
      "Name: Hasan, Salary: Hasan\n"
     ]
    }
   ],
   "source": [
    "class Empolyee:\n",
    "    def __init__(self, name, salay):\n",
    "        self.name = name\n",
    "        self.salay = salay\n",
    "\n",
    "    def display_info(self):\n",
    "        print(f\"Name: {self.name}, Salary: {self.name}\")\n",
    "\n",
    "e = Empolyee(\"Hasan\", 50000)\n",
    "e.display_info()"
   ]
  },
  {
   "cell_type": "code",
   "execution_count": 2,
   "metadata": {},
   "outputs": [
    {
     "name": "stdout",
     "output_type": "stream",
     "text": [
      "AB2025\n"
     ]
    }
   ],
   "source": [
    "class Car:\n",
    "    def __init__(self):\n",
    "        self.number = \"AB2025\"\n",
    "\n",
    "    def car_number(self):\n",
    "        return self.number\n",
    "    \n",
    "car = Car()\n",
    "\n",
    "print(car.car_number())"
   ]
  },
  {
   "cell_type": "code",
   "execution_count": 4,
   "metadata": {},
   "outputs": [
    {
     "name": "stdout",
     "output_type": "stream",
     "text": [
      "The magic box has Candy\n"
     ]
    }
   ],
   "source": [
    "class MagicBox:\n",
    "    def __init__(self):\n",
    "        self.secret = \"Candy\"\n",
    "\n",
    "    def open_box(self):\n",
    "        return f\"The magic box has {self.secret}\"\n",
    "    \n",
    "box = MagicBox()\n",
    "print(box.open_box())"
   ]
  },
  {
   "cell_type": "code",
   "execution_count": 7,
   "metadata": {},
   "outputs": [
    {
     "name": "stdout",
     "output_type": "stream",
     "text": [
      "Rafi has got 95.\n"
     ]
    }
   ],
   "source": [
    "class Result:\n",
    "    def __init__(self):\n",
    "        self.marks = 95\n",
    "\n",
    "    def get_result(self):\n",
    "        return f\"Rafi has got {self.marks}.\"\n",
    "        \n",
    "result = Result()\n",
    "print(result.get_result())"
   ]
  },
  {
   "cell_type": "code",
   "execution_count": 9,
   "metadata": {},
   "outputs": [
    {
     "name": "stdout",
     "output_type": "stream",
     "text": [
      "Rafi is Tamim's friend.\n"
     ]
    }
   ],
   "source": [
    "class Relation:\n",
    "    def __init__(self):\n",
    "        self.relationship = \"friend\"\n",
    "\n",
    "    def about_relationship(self):\n",
    "        return f\"Rafi is Tamim's {self.relationship}.\"\n",
    "    \n",
    "relation = Relation()\n",
    "print(relation.about_relationship())"
   ]
  }
 ],
 "metadata": {
  "kernelspec": {
   "display_name": "Python 3",
   "language": "python",
   "name": "python3"
  },
  "language_info": {
   "codemirror_mode": {
    "name": "ipython",
    "version": 3
   },
   "file_extension": ".py",
   "mimetype": "text/x-python",
   "name": "python",
   "nbconvert_exporter": "python",
   "pygments_lexer": "ipython3",
   "version": "3.13.0"
  }
 },
 "nbformat": 4,
 "nbformat_minor": 2
}
