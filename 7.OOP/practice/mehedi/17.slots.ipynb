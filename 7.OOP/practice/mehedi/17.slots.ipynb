{
 "cells": [
  {
   "cell_type": "markdown",
   "metadata": {},
   "source": [
    "### Slots"
   ]
  },
  {
   "cell_type": "code",
   "execution_count": 1,
   "metadata": {},
   "outputs": [
    {
     "name": "stdout",
     "output_type": "stream",
     "text": [
      "Alice\n",
      "25\n"
     ]
    }
   ],
   "source": [
    "class MyClass:\n",
    "    __slots__ = ['name', 'age']\n",
    "\n",
    "    def __init__(self, name, age):\n",
    "        self.name = name\n",
    "        self.age = age\n",
    "\n",
    "obj = MyClass(\"Alice\", 25)\n",
    "print(obj.name)\n",
    "print(obj.age)"
   ]
  },
  {
   "cell_type": "code",
   "execution_count": 13,
   "metadata": {},
   "outputs": [
    {
     "name": "stdout",
     "output_type": "stream",
     "text": [
      "[<__main__.Person object at 0x11fe4dd50>, <__main__.Person object at 0x11fe4d9f0>, <__main__.Person object at 0x11fe4d750>]\n",
      "Person1\n",
      "1\n"
     ]
    }
   ],
   "source": [
    "class Person:\n",
    "    __slots__ = ['name', 'age']\n",
    "\n",
    "    def __init__(self, name, age):\n",
    "        self.name = name\n",
    "        self.age = age\n",
    "\n",
    "people = [Person(\"Person\" + str(i), i) for i in range(1, 1000001)]\n",
    "\n",
    "print(people[:3])\n",
    "print(people[0].name)\n",
    "print(people[0].age)\n"
   ]
  },
  {
   "cell_type": "code",
   "execution_count": 11,
   "metadata": {},
   "outputs": [
    {
     "name": "stdout",
     "output_type": "stream",
     "text": [
      "1984\n",
      "George Orwell\n"
     ]
    }
   ],
   "source": [
    "class Book:\n",
    "    __slots__ = ['title', 'author']\n",
    "\n",
    "    def __init__(self, title, author):\n",
    "        self.title = title\n",
    "        self.author = author\n",
    "\n",
    "book = Book(\"1984\", \"George Orwell\")\n",
    "\n",
    "print(book.title)\n",
    "print(book.author)"
   ]
  }
 ],
 "metadata": {
  "kernelspec": {
   "display_name": "Python 3",
   "language": "python",
   "name": "python3"
  },
  "language_info": {
   "codemirror_mode": {
    "name": "ipython",
    "version": 3
   },
   "file_extension": ".py",
   "mimetype": "text/x-python",
   "name": "python",
   "nbconvert_exporter": "python",
   "pygments_lexer": "ipython3",
   "version": "3.11.10"
  }
 },
 "nbformat": 4,
 "nbformat_minor": 2
}
