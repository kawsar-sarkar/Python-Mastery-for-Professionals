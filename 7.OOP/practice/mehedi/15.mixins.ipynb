{
 "cells": [
  {
   "cell_type": "markdown",
   "metadata": {},
   "source": [
    "### Mixins"
   ]
  },
  {
   "cell_type": "code",
   "execution_count": 2,
   "metadata": {},
   "outputs": [
    {
     "name": "stdout",
     "output_type": "stream",
     "text": [
      "Log: User created.\n"
     ]
    }
   ],
   "source": [
    "class LoggingMixin:\n",
    "    def log(self, message):\n",
    "        print(f\"Log: {message}\")\n",
    "\n",
    "class User(LoggingMixin):\n",
    "    def __init__(self, name):\n",
    "        self.name = name\n",
    "\n",
    "user = User(\"Mehedi\")\n",
    "user.log(\"User created.\")"
   ]
  },
  {
   "cell_type": "code",
   "execution_count": 3,
   "metadata": {},
   "outputs": [
    {
     "name": "stdout",
     "output_type": "stream",
     "text": [
      "8\n",
      "15\n"
     ]
    }
   ],
   "source": [
    "class MathMixin:\n",
    "    def add(self, a, b):\n",
    "        return a + b\n",
    "\n",
    "    def multiply(self, a, b):\n",
    "        return a * b\n",
    "\n",
    "class Calculator(MathMixin):\n",
    "    pass\n",
    "\n",
    "calc = Calculator()\n",
    "print(calc.add(3, 5))\n",
    "print(calc.multiply(3, 5))"
   ]
  }
 ],
 "metadata": {
  "kernelspec": {
   "display_name": "Python 3",
   "language": "python",
   "name": "python3"
  },
  "language_info": {
   "codemirror_mode": {
    "name": "ipython",
    "version": 3
   },
   "file_extension": ".py",
   "mimetype": "text/x-python",
   "name": "python",
   "nbconvert_exporter": "python",
   "pygments_lexer": "ipython3",
   "version": "3.11.10"
  }
 },
 "nbformat": 4,
 "nbformat_minor": 2
}
