{
 "cells": [
  {
   "cell_type": "markdown",
   "metadata": {},
   "source": [
    "### Inheritance"
   ]
  },
  {
   "cell_type": "code",
   "execution_count": null,
   "metadata": {},
   "outputs": [
    {
     "name": "stdout",
     "output_type": "stream",
     "text": [
      "The animal makes a sound.\n",
      "The dog barks.\n"
     ]
    }
   ],
   "source": [
    "class Animal:\n",
    "    def speak(self):\n",
    "        print(\"The animal makes a sound.\")\n",
    "\n",
    "class Dog(Animal):\n",
    "    def speak(self):\n",
    "        print(\"The dog barks.\")\n",
    "\n",
    "animal = Animal()\n",
    "dog = Dog()\n",
    "\n",
    "animal.speak()  \n",
    "dog.speak()     \n"
   ]
  },
  {
   "cell_type": "code",
   "execution_count": null,
   "metadata": {},
   "outputs": [
    {
     "name": "stdout",
     "output_type": "stream",
     "text": [
      "The animal makes a sound.\n",
      "The cat meows.\n"
     ]
    }
   ],
   "source": [
    "class Animal:\n",
    "    def speak(self):\n",
    "        print(\"The animal makes a sound.\")\n",
    "\n",
    "class Cat(Animal):\n",
    "    def speak(self):\n",
    "        super().speak()  # Call the parent class method\n",
    "        print(\"The cat meows.\")\n",
    "\n",
    "# Creating an object of the derived class\n",
    "cat = Cat()\n",
    "cat.speak()\n"
   ]
  },
  {
   "cell_type": "code",
   "execution_count": 3,
   "metadata": {},
   "outputs": [
    {
     "name": "stdout",
     "output_type": "stream",
     "text": [
      "The vehicle starts moving.\n",
      "The car is being driven.\n"
     ]
    }
   ],
   "source": [
    "class Vehicle:\n",
    "    def start(self):\n",
    "        print(\"The vehicle starts moving.\")\n",
    "\n",
    "class Car(Vehicle):\n",
    "    def drive(self):\n",
    "        print(\"The car is being driven.\")\n",
    "\n",
    "# Creating an object of the derived class\n",
    "car = Car()\n",
    "car.start()  # Method inherited from the parent class\n",
    "car.drive()  # Method from the derived class\n"
   ]
  },
  {
   "cell_type": "code",
   "execution_count": 4,
   "metadata": {},
   "outputs": [
    {
     "name": "stdout",
     "output_type": "stream",
     "text": [
      "Name: Alice, Age: 20\n",
      "Student ID: S12345\n"
     ]
    }
   ],
   "source": [
    "class Person:\n",
    "    def __init__(self, name, age):\n",
    "        self.name = name\n",
    "        self.age = age\n",
    "\n",
    "    def display(self):\n",
    "        print(f\"Name: {self.name}, Age: {self.age}\")\n",
    "\n",
    "class Student(Person):\n",
    "    def __init__(self, name, age, student_id):\n",
    "        super().__init__(name, age)  # Call the constructor of the base class\n",
    "        self.student_id = student_id\n",
    "\n",
    "    def display(self):\n",
    "        super().display()  # Call the parent class method\n",
    "        print(f\"Student ID: {self.student_id}\")\n",
    "\n",
    "# Creating an object of the derived class\n",
    "student = Student(\"Alice\", 20, \"S12345\")\n",
    "student.display()\n"
   ]
  },
  {
   "cell_type": "code",
   "execution_count": 7,
   "metadata": {},
   "outputs": [
    {
     "name": "stdout",
     "output_type": "stream",
     "text": [
      "Method from Parent1\n",
      "Method from Parent2\n",
      "Method from Child\n"
     ]
    }
   ],
   "source": [
    "class Parent1:\n",
    "    def method1(self):\n",
    "        print(\"Method from Parent1\")\n",
    "\n",
    "class Parent2:\n",
    "    def method2(self):\n",
    "        print(\"Method from Parent2\")\n",
    "\n",
    "class Child(Parent1, Parent2):\n",
    "    def method3(self):\n",
    "        print(\"Method from Child\")\n",
    "\n",
    "# Creating an object of the derived class\n",
    "child = Child()\n",
    "child.method1()  # Inherited from Parent1\n",
    "child.method2()  # Inherited from Parent2\n",
    "child.method3()  # Method from Child\n"
   ]
  },
  {
   "cell_type": "code",
   "execution_count": 6,
   "metadata": {},
   "outputs": [
    {
     "name": "stdout",
     "output_type": "stream",
     "text": [
      "Method from Grandparent\n",
      "Method from Parent\n",
      "Method from Child\n"
     ]
    }
   ],
   "source": [
    "class Grandparent:\n",
    "    def method1(self):\n",
    "        print(\"Method from Grandparent\")\n",
    "\n",
    "class Parent(Grandparent):\n",
    "    def method2(self):\n",
    "        print(\"Method from Parent\")\n",
    "\n",
    "class Child(Parent):\n",
    "    def method3(self):\n",
    "        print(\"Method from Child\")\n",
    "\n",
    "# Creating an object of the Child class\n",
    "child = Child()\n",
    "child.method1()  # Inherited from Grandparent\n",
    "child.method2()  # Inherited from Parent\n",
    "child.method3()  # Method from Child\n"
   ]
  },
  {
   "cell_type": "code",
   "execution_count": 2,
   "metadata": {},
   "outputs": [
    {
     "name": "stdout",
     "output_type": "stream",
     "text": [
      "Hello from Child1!\n",
      "Hello from Child2!\n"
     ]
    }
   ],
   "source": [
    "class Parent:\n",
    "    def greet(self):\n",
    "        print(\"Hello from the parent!\")\n",
    "\n",
    "class Child1(Parent):\n",
    "    def greet(self):\n",
    "        print(\"Hello from Child1!\")\n",
    "\n",
    "class Child2(Parent):\n",
    "    def greet(self):\n",
    "        print(\"Hello from Child2!\")\n",
    "\n",
    "# Creating objects\n",
    "child1 = Child1()\n",
    "child2 = Child2()\n",
    "\n",
    "child1.greet()\n",
    "child2.greet()\n"
   ]
  }
 ],
 "metadata": {
  "kernelspec": {
   "display_name": "Python 3",
   "language": "python",
   "name": "python3"
  },
  "language_info": {
   "codemirror_mode": {
    "name": "ipython",
    "version": 3
   },
   "file_extension": ".py",
   "mimetype": "text/x-python",
   "name": "python",
   "nbconvert_exporter": "python",
   "pygments_lexer": "ipython3",
   "version": "3.13.0"
  }
 },
 "nbformat": 4,
 "nbformat_minor": 2
}
