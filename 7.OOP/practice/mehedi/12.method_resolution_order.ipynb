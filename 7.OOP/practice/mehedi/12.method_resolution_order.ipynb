{
 "cells": [
  {
   "cell_type": "markdown",
   "metadata": {},
   "source": [
    "### Method Resolution Order (MRO)"
   ]
  },
  {
   "cell_type": "code",
   "execution_count": 3,
   "metadata": {},
   "outputs": [
    {
     "name": "stdout",
     "output_type": "stream",
     "text": [
      "A\n",
      "[<class '__main__.B'>, <class '__main__.A'>, <class 'object'>]\n"
     ]
    }
   ],
   "source": [
    "class A:\n",
    "    def show(self):\n",
    "        print(\"A\")\n",
    "\n",
    "class B(A):\n",
    "    pass\n",
    "\n",
    "obj = B()\n",
    "obj.show()\n",
    "\n",
    "print(B.mro())"
   ]
  },
  {
   "cell_type": "code",
   "execution_count": 4,
   "metadata": {},
   "outputs": [
    {
     "name": "stdout",
     "output_type": "stream",
     "text": [
      "A\n",
      "[<class '__main__.C'>, <class '__main__.A'>, <class '__main__.B'>, <class 'object'>]\n"
     ]
    }
   ],
   "source": [
    "class A:\n",
    "    def show(self):\n",
    "        print(\"A\")\n",
    "\n",
    "class B:\n",
    "    def show(self):\n",
    "        print(\"B\")\n",
    "\n",
    "class C(A, B):\n",
    "    pass\n",
    "\n",
    "obj = C()\n",
    "obj.show()\n",
    "\n",
    "print(C.mro())"
   ]
  },
  {
   "cell_type": "code",
   "execution_count": 5,
   "metadata": {},
   "outputs": [
    {
     "name": "stdout",
     "output_type": "stream",
     "text": [
      "[<class '__main__.B'>, <class 'object'>]\n"
     ]
    }
   ],
   "source": [
    "class A:\n",
    "    pass\n",
    "\n",
    "class B:\n",
    "    pass\n",
    "\n",
    "obj = B()\n",
    "print(B.mro())"
   ]
  },
  {
   "cell_type": "code",
   "execution_count": 11,
   "metadata": {},
   "outputs": [
    {
     "name": "stdout",
     "output_type": "stream",
     "text": [
      "[<class '__main__.C'>, <class '__main__.B'>, <class '__main__.A'>, <class 'object'>]\n",
      "[<class '__main__.D'>, <class '__main__.A'>, <class '__main__.B'>, <class 'object'>]\n"
     ]
    }
   ],
   "source": [
    "class A:\n",
    "    def show(self):\n",
    "        print(\"A\")\n",
    "\n",
    "class B:\n",
    "    def show(self):\n",
    "        print(\"B\")\n",
    "\n",
    "class C(B, A):\n",
    "    pass\n",
    "\n",
    "class D(A, B):\n",
    "    pass\n",
    "\n",
    "print(C.mro())\n",
    "\n",
    "print(D.mro())"
   ]
  },
  {
   "cell_type": "code",
   "execution_count": 1,
   "metadata": {},
   "outputs": [
    {
     "name": "stdout",
     "output_type": "stream",
     "text": [
      "Student: Alice, Grade: 3\n",
      "School name changed to: Sunnydale School\n",
      "Learn and Grow!\n"
     ]
    }
   ],
   "source": [
    "class School:\n",
    "    # Class attribute\n",
    "    school_name = \"Greenwood School\"\n",
    "\n",
    "    def __init__(self, student_name, grade):\n",
    "        # Instance attributes\n",
    "        self.student_name = student_name\n",
    "        self.grade = grade\n",
    "\n",
    "    # Instance method: used to show student's information\n",
    "    def show_student_info(self):\n",
    "        return f\"Student: {self.student_name}, Grade: {self.grade}\"\n",
    "\n",
    "    # Class method: used to access or modify class-level information\n",
    "    @classmethod\n",
    "    def change_school_name(cls, new_name):\n",
    "        cls.school_name = new_name\n",
    "        return f\"School name changed to: {cls.school_name}\"\n",
    "\n",
    "    # Static method: used for utility, unrelated to instance or class\n",
    "    @staticmethod\n",
    "    def school_motto():\n",
    "        return \"Learn and Grow!\"\n",
    "\n",
    "# Example usage\n",
    "# Creating a student (instance of the School class)\n",
    "student1 = School(\"Alice\", 3)\n",
    "\n",
    "# Calling the instance method\n",
    "print(student1.show_student_info())  # Output: Student: Alice, Grade: 3\n",
    "\n",
    "# Calling the class method\n",
    "print(School.change_school_name(\"Sunnydale School\"))  # Output: School name changed to: Sunnydale School\n",
    "\n",
    "# Calling the static method\n",
    "print(School.school_motto())  # Output: Learn and Grow!\n"
   ]
  },
  {
   "cell_type": "code",
   "execution_count": null,
   "metadata": {},
   "outputs": [],
   "source": [
    "class Cat:\n",
    "    species = \"Feline\"\n",
    "\n",
    "    def __init__(self, name, age):\n",
    "        self.name = name\n",
    "        self.age = age\n",
    "\n",
    "    def show_info(self):\n",
    "        return f\"My name is {self.name} and I am {self.age} years old.\"\n",
    "\n",
    "    @classmethod\n",
    "    def change_species(cls, new_species):\n",
    "        cls.species = new_species\n",
    "        return f\"All cats are now called {cls.species}!\"\n",
    "\n",
    "    @staticmethod\n",
    "    def sound():\n",
    "        return \"Cats say 'Meow!'\"\n",
    "\n",
    "kitty = Cat(\"Whiskers\", 2)\n",
    "\n",
    "print(kitty.show_info()) \n",
    "\n",
    "print(Cat.change_species(\"Big Cats\"))  \n",
    "\n",
    "print(Cat.sound())  "
   ]
  },
  {
   "cell_type": "code",
   "execution_count": 5,
   "metadata": {},
   "outputs": [
    {
     "name": "stdout",
     "output_type": "stream",
     "text": [
      "There are 2 toys in the toy box!\n"
     ]
    }
   ],
   "source": [
    "class Toy:\n",
    "\n",
    "    total_toys = 0\n",
    "\n",
    "    def __init__(self, name):\n",
    "        self.name = name\n",
    "        Toy.total_toys += 1 \n",
    "\n",
    "    @classmethod\n",
    "    def show_total_toys(cls):\n",
    "        return f\"There are {cls.total_toys} toys in the toy box!\"\n",
    "\n",
    "\n",
    "toy1 = Toy(\"Teddy Bear\")\n",
    "toy2 = Toy(\"Car\")\n",
    "\n",
    "print(Toy.show_total_toys()) \n"
   ]
  },
  {
   "cell_type": "code",
   "execution_count": 4,
   "metadata": {},
   "outputs": [
    {
     "name": "stdout",
     "output_type": "stream",
     "text": [
      "There are 0 toys.\n"
     ]
    }
   ],
   "source": [
    "class ToyBox:\n",
    "    total_toy = 0\n",
    "\n",
    "    @classmethod\n",
    "    def show_total(cls):\n",
    "        return f\"There are {cls.total_toy} toys.\"\n",
    "    \n",
    "print(ToyBox.show_total())"
   ]
  },
  {
   "cell_type": "code",
   "execution_count": 7,
   "metadata": {},
   "outputs": [
    {
     "name": "stdout",
     "output_type": "stream",
     "text": [
      "name of the Tree Mango\n",
      "3\n",
      "3\n"
     ]
    }
   ],
   "source": [
    "class Tree:\n",
    "    count = 0\n",
    "\n",
    "    def __init__(self, name):\n",
    "        self.name = name\n",
    "        Tree.count += 1\n",
    "\n",
    "    def show(self):\n",
    "        return self.name\n",
    "    \n",
    "    @classmethod\n",
    "    def total_tree(cls):\n",
    "        return cls.count\n",
    "    \n",
    "    @staticmethod\n",
    "    def jata():\n",
    "        print(Tree.count)\n",
    "\n",
    "tree1 = Tree(\"Mango\")\n",
    "tree2 = Tree(\"Payara\")\n",
    "tree3 = Tree(\"Banana\")\n",
    "\n",
    "t1 = Tree.total_tree()\n",
    "print(f\"name of the Tree {tree1.show()}\")\n",
    "\n",
    "print(Tree.total_tree())\n",
    "Tree.jata()"
   ]
  }
 ],
 "metadata": {
  "kernelspec": {
   "display_name": "Python 3",
   "language": "python",
   "name": "python3"
  },
  "language_info": {
   "codemirror_mode": {
    "name": "ipython",
    "version": 3
   },
   "file_extension": ".py",
   "mimetype": "text/x-python",
   "name": "python",
   "nbconvert_exporter": "python",
   "pygments_lexer": "ipython3",
   "version": "3.13.0"
  }
 },
 "nbformat": 4,
 "nbformat_minor": 2
}
