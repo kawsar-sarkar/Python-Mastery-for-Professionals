{
 "cells": [
  {
   "cell_type": "markdown",
   "metadata": {},
   "source": [
    "### Composition and Aggregation"
   ]
  },
  {
   "cell_type": "markdown",
   "metadata": {},
   "source": [
    "#### Composition"
   ]
  },
  {
   "cell_type": "code",
   "execution_count": 1,
   "metadata": {},
   "outputs": [
    {
     "name": "stdout",
     "output_type": "stream",
     "text": [
      "The house at 123 Main St is destroyed, so are the rooms.\n"
     ]
    }
   ],
   "source": [
    "class Room:\n",
    "    def __init__(self, name):\n",
    "        self.name = name\n",
    "\n",
    "class House:\n",
    "    def __init__(self, address):\n",
    "        self.address = address\n",
    "        self.room = Room(\"Living Room\")\n",
    "\n",
    "    def __del__(self):\n",
    "        print(f\"The house at {self.address} is destroyed, so are the rooms.\")\n",
    "\n",
    "house = House(\"123 Main St\")\n",
    "del house"
   ]
  },
  {
   "cell_type": "code",
   "execution_count": null,
   "metadata": {},
   "outputs": [
    {
     "name": "stdout",
     "output_type": "stream",
     "text": [
      "Alice\n",
      "New York\n"
     ]
    }
   ],
   "source": [
    "class Address:\n",
    "    def __init__(self, city):\n",
    "        self.city = city\n",
    "\n",
    "class Person:\n",
    "    def __init__(self, name, city):\n",
    "        self.name = name\n",
    "        self.address = Address(city)\n",
    "\n",
    "person = Person(\"Alice\", \"New York\")\n",
    "print(person.name)\n",
    "print(person.address.city)"
   ]
  },
  {
   "cell_type": "markdown",
   "metadata": {},
   "source": [
    "#### Aggregation"
   ]
  },
  {
   "cell_type": "code",
   "execution_count": 4,
   "metadata": {},
   "outputs": [],
   "source": [
    "class Book:\n",
    "    def __init__(self, title):\n",
    "        self.title = title\n",
    "    \n",
    "class Library:\n",
    "    def __init__(self, name):\n",
    "        self.name = name\n",
    "        self.books = []\n",
    "\n",
    "    def add_book(self,book):\n",
    "        self.books.append(book)\n",
    "\n",
    "book1 = Book(\"1984\")\n",
    "book2 = Book(\"Brave New World\")\n",
    "library = Library(\"Central Library\")\n",
    "library.add_book(book1)\n",
    "library.add_book(book2)\n",
    "\n",
    "del library"
   ]
  }
 ],
 "metadata": {
  "kernelspec": {
   "display_name": "Python 3",
   "language": "python",
   "name": "python3"
  },
  "language_info": {
   "codemirror_mode": {
    "name": "ipython",
    "version": 3
   },
   "file_extension": ".py",
   "mimetype": "text/x-python",
   "name": "python",
   "nbconvert_exporter": "python",
   "pygments_lexer": "ipython3",
   "version": "3.11.10"
  }
 },
 "nbformat": 4,
 "nbformat_minor": 2
}
