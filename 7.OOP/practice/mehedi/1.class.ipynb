{
 "cells": [
  {
   "cell_type": "markdown",
   "metadata": {},
   "source": [
    "## Defining a class"
   ]
  },
  {
   "cell_type": "code",
   "execution_count": 4,
   "metadata": {},
   "outputs": [
    {
     "name": "stdout",
     "output_type": "stream",
     "text": [
      "3\n",
      "10\n"
     ]
    }
   ],
   "source": [
    "class Enemy:\n",
    "    life = 3\n",
    "    energy = 10\n",
    "\n",
    "print(Enemy.life)\n",
    "print(Enemy.energy)"
   ]
  },
  {
   "cell_type": "code",
   "execution_count": 5,
   "metadata": {},
   "outputs": [
    {
     "name": "stdout",
     "output_type": "stream",
     "text": [
      "5\n",
      "20\n"
     ]
    }
   ],
   "source": [
    "class Enemy:\n",
    "    life = 5\n",
    "    energy = 20\n",
    "\n",
    "print(Enemy.life)\n",
    "print(Enemy.energy)"
   ]
  },
  {
   "cell_type": "code",
   "execution_count": 6,
   "metadata": {},
   "outputs": [
    {
     "name": "stdout",
     "output_type": "stream",
     "text": [
      "2500\n",
      "3000\n"
     ]
    }
   ],
   "source": [
    "class MyApp:\n",
    "    download = 3000\n",
    "    play = 2500\n",
    "\n",
    "print(MyApp.play)\n",
    "print(MyApp.download)"
   ]
  },
  {
   "cell_type": "code",
   "execution_count": 22,
   "metadata": {},
   "outputs": [
    {
     "name": "stdout",
     "output_type": "stream",
     "text": [
      "<class '__main__.Instructor'>\n"
     ]
    }
   ],
   "source": [
    "class Instructor:\n",
    "    pass\n",
    "\n",
    "Instructor_1=Instructor()\n",
    "print(type(Instructor_1))"
   ]
  },
  {
   "cell_type": "markdown",
   "metadata": {},
   "source": [
    "## My test (Example)"
   ]
  },
  {
   "cell_type": "code",
   "execution_count": 18,
   "metadata": {},
   "outputs": [
    {
     "name": "stdout",
     "output_type": "stream",
     "text": [
      "Name of the car: Toyota\n",
      "Color: White\n",
      "Starting the engine\n"
     ]
    }
   ],
   "source": [
    "#   Car\n",
    "\n",
    "class Car:\n",
    "    name = \"Toyota\"\n",
    "    color = \"White\"\n",
    "\n",
    "    def start():\n",
    "        print(\"Starting the engine\")\n",
    "\n",
    "print(\"Name of the car:\", Car.name)\n",
    "print(\"Color:\", Car.color)\n",
    "\n",
    "Car.start()"
   ]
  },
  {
   "cell_type": "code",
   "execution_count": 26,
   "metadata": {},
   "outputs": [
    {
     "name": "stdout",
     "output_type": "stream",
     "text": [
      "Name of the car: Toyota\n",
      "Color: White\n",
      "starting the engine\n"
     ]
    }
   ],
   "source": [
    "#   Without car name\n",
    "\n",
    "class Car:\n",
    "    name = \"\"\n",
    "    color = \"\"\n",
    "\n",
    "    def start():\n",
    "        print(\"starting the engine\")\n",
    "\n",
    "Car.name = \"Toyota\"\n",
    "Car.color = \"White\"\n",
    "print(\"Name of the car:\", Car.name)\n",
    "print(\"Color:\", Car.color)\n",
    "\n",
    "Car.start()"
   ]
  },
  {
   "cell_type": "code",
   "execution_count": 31,
   "metadata": {},
   "outputs": [
    {
     "name": "stdout",
     "output_type": "stream",
     "text": [
      "Toyota\n",
      "Starting the engine\n"
     ]
    }
   ],
   "source": [
    "class Car:\n",
    "    name = \"\"\n",
    "    color = \"\"\n",
    "\n",
    "    def start(self):\n",
    "        print(\"Starting the engine\")\n",
    "\n",
    "# creating a car object\n",
    "\n",
    "my_car = Car()\n",
    "my_car.name = \"Toyota\"\n",
    "print(my_car.name)\n",
    "my_car.start()"
   ]
  },
  {
   "cell_type": "code",
   "execution_count": 34,
   "metadata": {},
   "outputs": [
    {
     "name": "stdout",
     "output_type": "stream",
     "text": [
      "Toyota\n",
      "White\n",
      "Starting the engine\n"
     ]
    }
   ],
   "source": [
    "class Car:\n",
    "    name = \"\"\n",
    "    color = \"\"\n",
    "\n",
    "    def __init__(self, name, color):\n",
    "        self.name = name\n",
    "        self.color = color\n",
    "\n",
    "    def start(self):\n",
    "        print(\"Starting the engine\")\n",
    "\n",
    "my_car = Car(\"Toyota\", \"White\")\n",
    "print(my_car.name)\n",
    "print(my_car.color)\n",
    "my_car.start()"
   ]
  },
  {
   "cell_type": "code",
   "execution_count": 35,
   "metadata": {},
   "outputs": [
    {
     "name": "stdout",
     "output_type": "stream",
     "text": [
      "Toyota\n",
      "White\n",
      "starting the engine\n"
     ]
    }
   ],
   "source": [
    "class Car:\n",
    "    def __init__(self, n, c):\n",
    "        self.name = n\n",
    "        self.color = c\n",
    "\n",
    "    def start(self):\n",
    "        print(\"starting the engine\")\n",
    "\n",
    "my_car = Car(\"Toyota\", \"White\")\n",
    "print(my_car.name)\n",
    "print(my_car.color)\n",
    "my_car.start()"
   ]
  },
  {
   "cell_type": "code",
   "execution_count": 36,
   "metadata": {},
   "outputs": [
    {
     "name": "stdout",
     "output_type": "stream",
     "text": [
      "name:  Toyota\n",
      "Color:  White\n",
      "Startnig the engine\n"
     ]
    }
   ],
   "source": [
    "class Car:\n",
    "    def __init__(self, n, c):\n",
    "        self.name = n\n",
    "        self.color = c\n",
    "\n",
    "    def start(self):\n",
    "        print(\"name: \", self.name)\n",
    "        print(\"Color: \", self.color)\n",
    "        print(\"Startnig the engine\")\n",
    "\n",
    "my_car = Car(\"Toyota\", \"White\")\n",
    "my_car.start()\n"
   ]
  },
  {
   "cell_type": "code",
   "execution_count": 37,
   "metadata": {},
   "outputs": [
    {
     "name": "stdout",
     "output_type": "stream",
     "text": [
      "name:  Corolla\n",
      "color:  White\n",
      "Startnig the engine\n"
     ]
    }
   ],
   "source": [
    "class Car:\n",
    "    def __init__(self, n, c):\n",
    "        self.name = n\n",
    "        self.color = c\n",
    "\n",
    "    def start(self):\n",
    "        print(\"name: \", self.name)\n",
    "        print(\"color: \", self.color)\n",
    "        print(\"Startnig the engine\")\n",
    "\n",
    "my_car = Car(\"Corolla\", \"White\")\n",
    "\n",
    "Car.start(my_car)"
   ]
  },
  {
   "cell_type": "code",
   "execution_count": 44,
   "metadata": {},
   "outputs": [
    {
     "name": "stdout",
     "output_type": "stream",
     "text": [
      "Name:  Toyota\n",
      "Color:  White\n",
      "Starting the engine\n",
      "Name:  Premio\n",
      "Color:  Black\n",
      "Starting the engine\n",
      "2024\n",
      "Name:  Tata Neno\n",
      "Color:  Red\n",
      "Starting the engine\n"
     ]
    }
   ],
   "source": [
    "class Car:\n",
    "    def __init__(self, n, c):\n",
    "        self.name = n\n",
    "        self.color = c\n",
    "\n",
    "    def start(self):\n",
    "        print(\"Name: \", self.name)\n",
    "        print(\"Color: \", self.color)\n",
    "        print(\"Starting the engine\")\n",
    "\n",
    "my_car1 = Car(\"Toyota\", \"White\")\n",
    "my_car1.start()\n",
    "\n",
    "my_car2 = Car(\"Premio\", \"Black\")\n",
    "my_car2.start()\n",
    "\n",
    "my_car3 = Car(\"Tata Neno\", \"Red\")\n",
    "my_car3.year = 2024\n",
    "print(my_car3.year)\n",
    "my_car3.start()"
   ]
  },
  {
   "cell_type": "code",
   "execution_count": 42,
   "metadata": {},
   "outputs": [
    {
     "name": "stdout",
     "output_type": "stream",
     "text": [
      "TATA Neno White 2024\n"
     ]
    }
   ],
   "source": [
    "class Car:\n",
    "    def __init__(self, n, c):\n",
    "        self.name = n\n",
    "        self.color = c\n",
    "\n",
    "    def start(slef):\n",
    "        print(\"Starting the engine\")\n",
    "\n",
    "car = Car(\"TATA Neno\", \"White\")\n",
    "car.year = 2024\n",
    "\n",
    "print(car.name, car.color, car.year)"
   ]
  },
  {
   "cell_type": "markdown",
   "metadata": {},
   "source": [
    "## Methods and Class Methods"
   ]
  },
  {
   "cell_type": "markdown",
   "metadata": {},
   "source": [
    "### Instance Methods (Example)"
   ]
  },
  {
   "cell_type": "code",
   "execution_count": 58,
   "metadata": {},
   "outputs": [
    {
     "name": "stdout",
     "output_type": "stream",
     "text": [
      "Hasan\n",
      "Hi, I'm Hasan\n"
     ]
    }
   ],
   "source": [
    "class Person:\n",
    "    def __init__(self, name):\n",
    "        self.name = name\n",
    "\n",
    "    def greet(self):\n",
    "       print(\"Hi, I'm Hasan\")\n",
    "    \n",
    "person1 = Person(\"Hasan\")\n",
    "\n",
    "print(person1.name)\n",
    "person1.greet()"
   ]
  },
  {
   "cell_type": "code",
   "execution_count": 59,
   "metadata": {},
   "outputs": [
    {
     "name": "stdout",
     "output_type": "stream",
     "text": [
      "Hasan\n",
      "25\n",
      "Hi, I'm a student\n"
     ]
    }
   ],
   "source": [
    "class Person:\n",
    "    def __init__(self, name, age):\n",
    "        self.name = name\n",
    "        self.age = age\n",
    "\n",
    "    def greet(self):\n",
    "        print(\"Hi, I'm a student\")\n",
    "\n",
    "person = Person(\"Hasan\", 25)\n",
    "print(person.name)\n",
    "print(person.age)\n",
    "person.greet()"
   ]
  },
  {
   "cell_type": "code",
   "execution_count": 62,
   "metadata": {},
   "outputs": [
    {
     "name": "stdout",
     "output_type": "stream",
     "text": [
      "Hi, I'm Hasan. I'm 25 years old.\n"
     ]
    }
   ],
   "source": [
    "class Person:\n",
    "    def __init__(self, name, age):\n",
    "        self.name = name\n",
    "        self.age = age\n",
    "\n",
    "    def greet(self):\n",
    "        return f\"Hi, I'm {self.name}. I'm {self.age} years old.\"\n",
    "    \n",
    "p = Person(\"Hasan\", 25)\n",
    "print(p.greet())"
   ]
  },
  {
   "cell_type": "markdown",
   "metadata": {},
   "source": [
    "#### Displayinf a Name"
   ]
  },
  {
   "cell_type": "code",
   "execution_count": 63,
   "metadata": {},
   "outputs": [
    {
     "name": "stdout",
     "output_type": "stream",
     "text": [
      "My name is Mehedi.\n"
     ]
    }
   ],
   "source": [
    "class Person:\n",
    "    def __init__(self, name):\n",
    "        self.name = name\n",
    "\n",
    "    def  display_name(self): #Instance method\n",
    "        return f\"My name is {self.name}.\"\n",
    "    \n",
    "# Creating an object and calling the method\n",
    "person = Person(\"Mehedi\")\n",
    "print(person.display_name())"
   ]
  },
  {
   "cell_type": "markdown",
   "metadata": {},
   "source": [
    "#### Adding two numbers"
   ]
  },
  {
   "cell_type": "code",
   "execution_count": 64,
   "metadata": {},
   "outputs": [
    {
     "name": "stdout",
     "output_type": "stream",
     "text": [
      "17\n"
     ]
    }
   ],
   "source": [
    "class Calculator:\n",
    "    def __init__(self, a, b):\n",
    "        self.first_number = a\n",
    "        self.second_number = b\n",
    "\n",
    "    def add(self): #Instance ethod\n",
    "        return self.first_number + self.second_number\n",
    "\n",
    "# Creating an object and calling the method\n",
    "calc = Calculator(9, 8)\n",
    "print(calc.add())"
   ]
  },
  {
   "cell_type": "markdown",
   "metadata": {},
   "source": [
    "#### Checking if age is above 18"
   ]
  },
  {
   "cell_type": "code",
   "execution_count": 66,
   "metadata": {},
   "outputs": [
    {
     "name": "stdout",
     "output_type": "stream",
     "text": [
      "False\n"
     ]
    }
   ],
   "source": [
    "class Person:\n",
    "    def __init__(self, age):\n",
    "        self.age = age\n",
    "\n",
    "    def is_adult(self): #Instence method\n",
    "        return self.age >= 18\n",
    "    \n",
    "# Creating an object and calling the method\n",
    "person = Person(15)\n",
    "print(person.is_adult())"
   ]
  },
  {
   "cell_type": "markdown",
   "metadata": {},
   "source": [
    "#### Calculating area of a rectangle"
   ]
  },
  {
   "cell_type": "code",
   "execution_count": 68,
   "metadata": {},
   "outputs": [
    {
     "name": "stdout",
     "output_type": "stream",
     "text": [
      "20\n"
     ]
    }
   ],
   "source": [
    "class Rectangle:\n",
    "    def __init__(self, w, h):\n",
    "        self.width = w\n",
    "        self.height  = h\n",
    "\n",
    "    def area(self):\n",
    "        return self.width * self.height\n",
    "    \n",
    "rect = Rectangle(5, 4)\n",
    "print(rect.area())"
   ]
  },
  {
   "cell_type": "markdown",
   "metadata": {},
   "source": [
    "#### Updating a balance"
   ]
  },
  {
   "cell_type": "code",
   "execution_count": 72,
   "metadata": {},
   "outputs": [
    {
     "name": "stdout",
     "output_type": "stream",
     "text": [
      "1400\n"
     ]
    }
   ],
   "source": [
    "class BankAccount:\n",
    "    def __init__(self, balance):\n",
    "        self.balance = balance\n",
    "\n",
    "    def deposit(self, amount):\n",
    "        self.balance += amount\n",
    "        return self.balance\n",
    "\n",
    "account = BankAccount(1000)\n",
    "print(account.deposit(400))"
   ]
  },
  {
   "cell_type": "markdown",
   "metadata": {},
   "source": [
    "### Class Method"
   ]
  },
  {
   "cell_type": "markdown",
   "metadata": {},
   "source": [
    "#### Changing a class attribute"
   ]
  },
  {
   "cell_type": "code",
   "execution_count": 73,
   "metadata": {},
   "outputs": [
    {
     "name": "stdout",
     "output_type": "stream",
     "text": [
      "ABC School\n",
      "XYZ School\n"
     ]
    }
   ],
   "source": [
    "class School:\n",
    "    school_name = \"ABC School\" #Class attribute\n",
    "\n",
    "    @classmethod\n",
    "    def change_name(cls, new_name):\n",
    "        cls.school_name = new_name\n",
    "\n",
    "# Calling the class method\n",
    "print(School.school_name) # Output: ABC School\n",
    "School.change_name(\"XYZ School\")\n",
    "print(School.school_name)"
   ]
  },
  {
   "cell_type": "code",
   "execution_count": 2,
   "metadata": {},
   "outputs": [
    {
     "name": "stdout",
     "output_type": "stream",
     "text": [
      "Tamim\n"
     ]
    }
   ],
   "source": [
    "class Person:\n",
    "    person = \"Rafi\"\n",
    "\n",
    "    @classmethod\n",
    "    def change_name(cls, new_name):\n",
    "        cls.person = new_name\n",
    "\n",
    "#print(Person.person)\n",
    "Person.change_name(\"Tamim\")\n",
    "print(Person.person)"
   ]
  },
  {
   "cell_type": "markdown",
   "metadata": {},
   "source": [
    "#### Alternative Constructor"
   ]
  },
  {
   "cell_type": "code",
   "execution_count": 3,
   "metadata": {},
   "outputs": [
    {
     "name": "stdout",
     "output_type": "stream",
     "text": [
      "Hasan \n",
      "35\n"
     ]
    }
   ],
   "source": [
    "class Person:\n",
    "    def __init__(self, name, age):\n",
    "        self.name = name\n",
    "        self.age = age\n",
    "\n",
    "    @classmethod\n",
    "    def from_string(cls, data): # Class method\n",
    "        name, age = data.split(\",\")\n",
    "        return cls(name, int(age))\n",
    "    \n",
    "# Creating an object using the class method\n",
    "person = Person.from_string(\"Hasan ,35\")\n",
    "print(person.name)\n",
    "print(person.age)"
   ]
  },
  {
   "cell_type": "markdown",
   "metadata": {},
   "source": [
    "#### Tracking Number of Instances"
   ]
  },
  {
   "cell_type": "code",
   "execution_count": 76,
   "metadata": {},
   "outputs": [
    {
     "name": "stdout",
     "output_type": "stream",
     "text": [
      "2\n"
     ]
    }
   ],
   "source": [
    "class Counter:\n",
    "    count = 0  # Class attribute\n",
    "\n",
    "    def __init__(self):\n",
    "        Counter.increment()  # Call class method in constructor\n",
    "\n",
    "    @classmethod\n",
    "    def increment(cls):  # Class method\n",
    "        cls.count += 1\n",
    "\n",
    "# Creating objects\n",
    "c1 = Counter()\n",
    "c2 = Counter()\n",
    "print(Counter.count)  # Output: 2"
   ]
  },
  {
   "cell_type": "markdown",
   "metadata": {},
   "source": [
    "#### Setting Default Values"
   ]
  },
  {
   "cell_type": "code",
   "execution_count": 77,
   "metadata": {},
   "outputs": [
    {
     "name": "stdout",
     "output_type": "stream",
     "text": [
      "{'theme': 'light', 'language': 'English'}\n",
      "{'theme': 'dark', 'language': 'English'}\n"
     ]
    }
   ],
   "source": [
    "class Config:\n",
    "    settings = {\"theme\": \"light\", \"language\": \"English\"}  # Class attribute\n",
    "\n",
    "    @classmethod\n",
    "    def update_theme(cls, theme):  # Class method\n",
    "        cls.settings[\"theme\"] = theme\n",
    "\n",
    "# Using the class method\n",
    "print(Config.settings)  # Output: {'theme': 'light', 'language': 'English'}\n",
    "Config.update_theme(\"dark\")\n",
    "print(Config.settings)  # Output: {'theme': 'dark', 'language': 'English'}"
   ]
  },
  {
   "cell_type": "markdown",
   "metadata": {},
   "source": [
    "#### Setting Wheels for All Vehicles"
   ]
  },
  {
   "cell_type": "code",
   "execution_count": 78,
   "metadata": {},
   "outputs": [
    {
     "name": "stdout",
     "output_type": "stream",
     "text": [
      "4\n",
      "6\n"
     ]
    }
   ],
   "source": [
    "class Vehicle:\n",
    "    wheels = 4  # Class attribute\n",
    "\n",
    "    @classmethod\n",
    "    def set_wheels(cls, number):  # Class method\n",
    "        cls.wheels = number\n",
    "\n",
    "# Using the class method\n",
    "print(Vehicle.wheels)  # Output: 4\n",
    "Vehicle.set_wheels(6)\n",
    "print(Vehicle.wheels)  # Output: 6"
   ]
  },
  {
   "cell_type": "markdown",
   "metadata": {},
   "source": [
    "### Enum Class"
   ]
  },
  {
   "cell_type": "markdown",
   "metadata": {},
   "source": [
    "#### Example"
   ]
  },
  {
   "cell_type": "code",
   "execution_count": 16,
   "metadata": {},
   "outputs": [
    {
     "name": "stdout",
     "output_type": "stream",
     "text": [
      "Your favorite color is Red!\n"
     ]
    }
   ],
   "source": [
    "from enum import Enum\n",
    "\n",
    "class Color(Enum):\n",
    "    RED = 1\n",
    "    GREEN = 2\n",
    "    BLUE = 3\n",
    "\n",
    "favorite_color = Color.RED\n",
    "\n",
    "if favorite_color == Color.RED:\n",
    "    print(\"Your favorite color is Red!\")"
   ]
  },
  {
   "cell_type": "code",
   "execution_count": 7,
   "metadata": {},
   "outputs": [
    {
     "name": "stdout",
     "output_type": "stream",
     "text": [
      "Color.RED\n",
      "RED\n",
      "1\n"
     ]
    }
   ],
   "source": [
    "from enum import Enum\n",
    "\n",
    "class Color(Enum):\n",
    "    RED = 1\n",
    "    GREEN = 2\n",
    "    BLUE = 3\n",
    "\n",
    "print(Color.RED)\n",
    "print(Color.RED.name)\n",
    "print(Color.RED.value)"
   ]
  },
  {
   "cell_type": "code",
   "execution_count": 8,
   "metadata": {},
   "outputs": [
    {
     "name": "stdout",
     "output_type": "stream",
     "text": [
      "MONDAY 1\n",
      "TUESDAY 2\n",
      "WEDNESDAY 3\n"
     ]
    }
   ],
   "source": [
    "from enum import Enum\n",
    "\n",
    "class Day(Enum):\n",
    "    MONDAY = 1\n",
    "    TUESDAY = 2\n",
    "    WEDNESDAY = 3\n",
    "\n",
    "for day in Day:\n",
    "    print(day.name, day.value)"
   ]
  },
  {
   "cell_type": "code",
   "execution_count": 9,
   "metadata": {},
   "outputs": [
    {
     "name": "stdout",
     "output_type": "stream",
     "text": [
      "Status are the same.\n"
     ]
    }
   ],
   "source": [
    "from enum import Enum\n",
    "\n",
    "class Status(Enum):\n",
    "    ACTIVE = \"active\"\n",
    "    INACTIVE = \"inactive\"\n",
    "\n",
    "if Status.ACTIVE == Status.ACTIVE:\n",
    "    print(\"Status are the same.\")"
   ]
  },
  {
   "cell_type": "code",
   "execution_count": 10,
   "metadata": {},
   "outputs": [
    {
     "name": "stdout",
     "output_type": "stream",
     "text": [
      "[<Priority.LOW: 1>, <Priority.MEDIUM: 2>, <Priority.HIGH: 3>]\n"
     ]
    }
   ],
   "source": [
    "from enum import Enum, auto\n",
    "\n",
    "class Priority(Enum):\n",
    "    LOW = auto()\n",
    "    MEDIUM = auto()\n",
    "    HIGH = auto()\n",
    "\n",
    "print(list(Priority))"
   ]
  },
  {
   "cell_type": "code",
   "execution_count": 11,
   "metadata": {},
   "outputs": [
    {
     "name": "stdout",
     "output_type": "stream",
     "text": [
      "Direction is NORTH with value 1\n"
     ]
    }
   ],
   "source": [
    "from enum import Enum\n",
    "\n",
    "class Direction(Enum):\n",
    "    NORTH = 1\n",
    "    SOUTH = 2\n",
    "    EAST = 3\n",
    "    WEST = 4\n",
    "\n",
    "    def describe(self):\n",
    "        return f\"Direction is {self.name} with value {self.value}\"\n",
    "    \n",
    "print(Direction.NORTH.describe())"
   ]
  },
  {
   "cell_type": "code",
   "execution_count": 13,
   "metadata": {},
   "outputs": [
    {
     "name": "stdout",
     "output_type": "stream",
     "text": [
      "Fruit.APPLE\n"
     ]
    }
   ],
   "source": [
    "from enum import Enum\n",
    "\n",
    "class Fruit(Enum):\n",
    "    APPLE = 1\n",
    "    ORANGE = 2\n",
    "\n",
    "fruit_name = \"APPLE\"\n",
    "print(Fruit[fruit_name])"
   ]
  },
  {
   "cell_type": "markdown",
   "metadata": {},
   "source": [
    "#### Inner Class & Outer Class"
   ]
  },
  {
   "cell_type": "code",
   "execution_count": 17,
   "metadata": {},
   "outputs": [
    {
     "name": "stdout",
     "output_type": "stream",
     "text": [
      "Outer class name: OuterClass\n",
      "Inner class name: InnerClass\n"
     ]
    }
   ],
   "source": [
    "# Outer Class\n",
    "class Outer:\n",
    "    def __init__(self, outer_name):\n",
    "        self.outer_name = outer_name  # Attribute of the outer class\n",
    "\n",
    "    def display_outer(self):\n",
    "        print(f\"Outer class name: {self.outer_name}\")\n",
    "\n",
    "    # Inner Class\n",
    "    class Inner:\n",
    "        def __init__(self, inner_name):\n",
    "            self.inner_name = inner_name  # Attribute of the inner class\n",
    "\n",
    "        def display_inner(self):\n",
    "            print(f\"Inner class name: {self.inner_name}\")\n",
    "\n",
    "# Creating an instance of the Outer class\n",
    "outer_instance = Outer(\"OuterClass\")\n",
    "\n",
    "# Using the method of the Outer class\n",
    "outer_instance.display_outer()\n",
    "\n",
    "# Creating an instance of the Inner class (from outer_instance)\n",
    "inner_instance = outer_instance.Inner(\"InnerClass\")\n",
    "\n",
    "# Using the method of the Inner class\n",
    "inner_instance.display_inner()\n"
   ]
  }
 ],
 "metadata": {
  "kernelspec": {
   "display_name": ".venv",
   "language": "python",
   "name": "python3"
  },
  "language_info": {
   "codemirror_mode": {
    "name": "ipython",
    "version": 3
   },
   "file_extension": ".py",
   "mimetype": "text/x-python",
   "name": "python",
   "nbconvert_exporter": "python",
   "pygments_lexer": "ipython3",
   "version": "3.13.0"
  }
 },
 "nbformat": 4,
 "nbformat_minor": 2
}
